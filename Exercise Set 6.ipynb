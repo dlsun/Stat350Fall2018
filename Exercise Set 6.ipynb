{
 "cells": [
  {
   "cell_type": "markdown",
   "metadata": {},
   "source": [
    "# Exercise Set 6\n",
    "## Due Friday, November 16 at 5 PM\n",
    "\n",
    "Each question is graded out of 2-3 points:\n",
    "\n",
    "- 1 point for your answer (You must show work and/or explain your reasoning to earn credit.)\n",
    "- 1 point for writing a simulation using Symbulate checking your answer. (Designing an appropriate simulation is challenging! You will have to think hard about the problem for many of these.)\n",
    "- 1 point for your reflection (I want you to reflect on what you learned from the problem---or, if the problem was straightforward for you, what you think I was trying to teach you.)\n",
    "\n",
    "You can type your solution, simulation code, and reflection directly in this notebook (using LaTeX for mathematical notation). You can also prepare your solution and reflection on a separate piece of paper and attach your simulations for all 5 questions at the end.\n",
    "\n",
    "Keep in mind that you will have to upload your solution in the form of a PDF, so it may be worth the investment to learn how to typeset math."
   ]
  },
  {
   "cell_type": "code",
   "execution_count": null,
   "metadata": {},
   "outputs": [],
   "source": [
    "# Make sure you run this cell first!\n",
    "from symbulate import *\n",
    "%matplotlib inline"
   ]
  },
  {
   "cell_type": "markdown",
   "metadata": {},
   "source": [
    "The documentation for Symbulate can be found [here](https://dlsun.github.io/symbulate/index.html)."
   ]
  },
  {
   "cell_type": "markdown",
   "metadata": {},
   "source": [
    "# Question 1\n",
    "\n",
    "Let $\\Theta$ be a $\\text{Uniform}(\\ell=0, u=2\\pi)$ random variable and define the random process \n",
    "\n",
    "$$ X(t) = \\cos(2\\pi t + \\Theta). $$\n",
    "\n",
    "The process $\\{X(t)\\}$ is called the **random phase process**.\n",
    "\n",
    "1. Calculate $E[X(0)]$.\n",
    "2. Calculate $\\text{Cov}[X(0), X(1/6)]$.\n",
    "3. Find the p.d.f. of $X(0)$. Is this a named distribution?"
   ]
  },
  {
   "cell_type": "markdown",
   "metadata": {},
   "source": [
    "**YOUR ANSWER HERE**"
   ]
  },
  {
   "cell_type": "code",
   "execution_count": null,
   "metadata": {},
   "outputs": [],
   "source": [
    "# YOUR SIMULATION HERE\n",
    "\n",
    "# To get you started, this is a template for generating the random process.\n",
    "Theta = RV(Uniform(0, 2*pi))\n",
    "t = ContinuousTimeFunction()\n",
    "X = cos(2 * pi * t + Theta)\n",
    "\n",
    "# Calculate covariance between the process at two times.\n",
    "xy = (X[0] & X[1/6]).sim(1000)\n",
    "xy.plot()\n",
    "xy.cov()"
   ]
  },
  {
   "cell_type": "markdown",
   "metadata": {},
   "source": [
    "**YOUR REFLECTION HERE**"
   ]
  },
  {
   "cell_type": "markdown",
   "metadata": {},
   "source": [
    "## Question 2\n",
    "\n",
    "Let $W[n]$ be i.i.d. random variables for all integers $n$ (including _negative_ integers). A process $\\{ X[n] \\}$ which is defined recursively as\n",
    "$$ X[n] = \\phi X[n - 1] + W[n],$$\n",
    "where $|\\phi| < 1$, is called an **autoregressive (AR) process of order 2**. \n",
    "\n",
    "(Note that we assume the process $\\{ X[n] \\}$ extends infinitely far into the past. Admittedly, this is hard to imagine; to calculate $X[0]$, you have to know $X[-1]$, but to calculate $X[-1]$, you have to know $X[-2]$, and so on, infinitely far into the past. It may seem like a \"chicken or the egg\" problem, but because $\\phi^n \\to 0$, the value of $X$ at some time very far in the past has very little influence on the current value of $X$!) \n",
    "\n",
    "Let's suppose that $W[n]$ are i.i.d. $\\text{Normal}(\\mu=4, \\sigma=3)$. Let $\\phi = 0.5$.\n",
    "\n",
    "1. Calculate $E[X[0]]$.\n",
    "2. Calculate $\\text{Var}[X[2]]$.\n",
    "3. Calculate $\\text{Cov}[X[2], X[3]]$.\n",
    "4. Calculate $\\text{Cov}[X[2], X[5]]$.\n",
    "\n",
    "**Hint:** Use the same strategy that we did for random walks. If you did this correctly, you should end up with an (infinite) geometric series for each calculation, and you should know how to sum an infinite geometric series by now!"
   ]
  },
  {
   "cell_type": "markdown",
   "metadata": {},
   "source": [
    "**YOUR ANSWER HERE**"
   ]
  },
  {
   "cell_type": "code",
   "execution_count": null,
   "metadata": {},
   "outputs": [],
   "source": [
    "# YOUR SIMULATION HERE\n",
    "\n",
    "# Define an infinite sequence of independent Normals.\n",
    "P = Normal(mean=4, sd=3) ** inf\n",
    "\n",
    "# Define a random process W[-10], W[-9], W[-8], ...\n",
    "W = RandomProcess(P, index_set=Integers(), \n",
    "                  function=lambda outcome, n: outcome[n + 10])\n",
    "\n",
    "# Initialize a random process X.\n",
    "X = RandomProcess(P, index_set=Integers())\n",
    "# It's not possible to start a process infinitely far into the past.\n",
    "# We'll start the process at n=-10. By the time we get to n=0, this\n",
    "# initial value will be far in the past.\n",
    "X[-10] = 0\n",
    "for n in range(-9, 10):\n",
    "    X[n] = .5 * X[n-1] + W[n]\n",
    "\n",
    "X.sim(10).plot()\n",
    "\n",
    "# You can also simulate expected values, variances, and covariances.\n",
    "(X[2] & X[3]).sim(1000).cov()"
   ]
  },
  {
   "cell_type": "markdown",
   "metadata": {},
   "source": [
    "**YOUR REFLECTION HERE**"
   ]
  },
  {
   "cell_type": "markdown",
   "metadata": {},
   "source": [
    "# Question 3\n",
    "\n",
    "In class, we studied a **moving average (MA) process of order 1**. In this exercise, you will investigate an **MA process of order 2**.\n",
    "\n",
    "Let $W[n]$ be i.i.d. random variables for all integers $n$ (including _negative_ integers). A process $\\{ X[n] \\}$ which is defined as  \n",
    "$$ X[n] = W[n] + \\theta_1 W[n-1] + \\theta_2 W[n-2],$$\n",
    "where $\\theta_1, \\theta_2$ are real numbers, is called an **MA process of order 2**.\n",
    "\n",
    "Let's suppose that $W[n]$ are i.i.d. $\\text{Normal}(\\mu=4, \\sigma=3)$. Let $\\theta_1 = 1$ and $\\theta_2 = -0.5$.\n",
    "\n",
    "1. Calculate $E[X[0]]$.\n",
    "2. Calculate $\\text{Var}[X[2]]$.\n",
    "3. Calculate $\\text{Cov}[X[2], X[3]]$.\n",
    "4. Calculate $\\text{Cov}[X[2], X[5]]$."
   ]
  },
  {
   "cell_type": "markdown",
   "metadata": {},
   "source": [
    "**YOUR ANSWER HERE**"
   ]
  },
  {
   "cell_type": "code",
   "execution_count": null,
   "metadata": {},
   "outputs": [],
   "source": [
    "# YOUR SIMULATION HERE\n",
    "\n",
    "# Define an infinite sequence of independent Normals.\n",
    "P = Normal(mean=4, sd=3) ** inf\n",
    "\n",
    "# Define a random process W[-2], W[-1], W[0], W[1], ...\n",
    "W = RandomProcess(P, index_set=Integers(), \n",
    "                  function=lambda outcome, n: outcome[n + 2])\n",
    "\n",
    "# Initialize a random process X.\n",
    "X = RandomProcess(P)\n",
    "\n",
    "# Fill in the values of X.\n",
    "for n in range(10):\n",
    "    X[n] = W[n] + 1 * W[n-1] - 0.5 * W[n-2]\n",
    "\n",
    "X.sim(10).plot()"
   ]
  },
  {
   "cell_type": "markdown",
   "metadata": {},
   "source": [
    "**YOUR REFLECTION HERE**"
   ]
  },
  {
   "cell_type": "markdown",
   "metadata": {},
   "source": [
    "## Question 4\n",
    "\n",
    "Accidents on Highway 101 between San Luis Obispo and Paso Robles follow a Poisson process with a rate of 1.2 accidents per day. Answer the following questions:\n",
    "\n",
    "1. Given that there were exactly 5 accidents Sun-Tues, what is the probability that there are exactly 10 accidents over the entire week (Sun-Sat)?\n",
    "2. Given that there were exactly 10 accidents over the entire week (Sun-Sat), what is the probability there were exactly 5 accidents the first three days (Sun-Tues)?\n",
    "\n",
    "(**Hint:** One of these conditional probabilities can be calculated immediately using independence. The other requires more work.)"
   ]
  },
  {
   "cell_type": "markdown",
   "metadata": {},
   "source": [
    "**YOUR ANSWER HERE**"
   ]
  },
  {
   "cell_type": "code",
   "execution_count": null,
   "metadata": {},
   "outputs": [],
   "source": [
    "# YOUR SIMULATION HERE\n",
    "\n",
    "# Define a Poisson process with a given rate.\n",
    "N = PoissonProcess(rate=1.2)\n",
    "N.sim(10).plot()\n",
    "\n",
    "# Simulate a conditional probability.\n",
    "(N[7] | (N[3] == 5)).sim(1000).tabulate()"
   ]
  },
  {
   "cell_type": "markdown",
   "metadata": {},
   "source": [
    "**YOUR REFLECTION HERE**"
   ]
  },
  {
   "cell_type": "markdown",
   "metadata": {},
   "source": [
    "## Question 5\n",
    "\n",
    "Accidents on Highway 101 between San Luis Obispo and Paso Robles follow a Poisson process with a rate of 1.2 accidents per day. In class, we showed that the _interarrival times_, the time between accidents, are independent $\\text{Exponential}(\\lambda=1.2)$ random variables.\n",
    "\n",
    "Let $T_1, T_2, T_3, ...$ be the interarrival times starting from the beginning of the year. That is, $T_1$ is the time until the first accident in the year, $T_2$ is the time between the first accident and the second, and so on.\n",
    "\n",
    "1. What is the probability the first accident of the year happens _on_ New Year's Day? (Feel free to use the result from class without reproving it.)\n",
    "2. What is the probability the 2nd accident of the year happens _after_ New Year's Day? \n",
    "(**Hint:** Let $S_2$ be the time of the second arrival. You can calculate this probability by first finding the distribution of $S_2$ by convolving the distributions of $T_1$ and $T_2$, or you can calculate the probability directly by rephrasing the event $\\{S_2 > 1\\}$ in terms of the process $\\{N(t)\\}$, like we did in class.)\n",
    "3. What is the _approximate_ distribution of the time of the 100th accident? Explain your reasoning carefully, explaining any results you are using and why they apply in this situation. You will earn no credit for just naming a distribution, e.g., \"It's Poisson\"."
   ]
  },
  {
   "cell_type": "markdown",
   "metadata": {},
   "source": [
    "**YOUR ANSWER HERE**"
   ]
  },
  {
   "cell_type": "code",
   "execution_count": null,
   "metadata": {},
   "outputs": [],
   "source": [
    "# YOUR SIMULATION HERE\n",
    "\n",
    "# Define a probability space for a Poisson process.\n",
    "P = PoissonProcessProbabilitySpace(rate=1.2)\n",
    "\n",
    "# Define a random variable with the arrival times.\n",
    "S = RV(P, arrival_times)\n",
    "\n",
    "# Simulate the 2nd arrival time\n",
    "# (Careful: Remember that Python uses 0-based indexing,\n",
    "#  so the second arrival time actually has index 1.)\n",
    "S[1].sim(10000)"
   ]
  },
  {
   "cell_type": "markdown",
   "metadata": {},
   "source": [
    "**YOUR REFLECTION HERE**"
   ]
  },
  {
   "cell_type": "markdown",
   "metadata": {},
   "source": [
    "# Submission Instructions\n",
    "\n",
    "- If you completed this assignment directly in this notebook, export this notebook to HTML by clicking on `File > Export Notebook As > HTML`, print the resulting HTML file to PDF, and [upload the PDF to PolyLearn](https://polylearn.calpoly.edu/AY_2018-2019/mod/assign/view.php?id=168346).\n",
    "- If you completed this assignment on a separate piece of paper, scan the pages into a PDF. Make sure that the pages are in order and are right-side up. (You will earn no credit for any pages that are out-of-order or upside down.) Although we would prefer that your simulations be together with your solution to each question, it is acceptable to include your simulations for all 5 questions at the _end_ of your submission. Then, [upload the PDF to PolyLearn](https://polylearn.calpoly.edu/AY_2018-2019/mod/assign/view.php?id=168346)."
   ]
  }
 ],
 "metadata": {
  "kernelspec": {
   "display_name": "Python 3",
   "language": "python",
   "name": "python3"
  },
  "language_info": {
   "codemirror_mode": {
    "name": "ipython",
    "version": 3
   },
   "file_extension": ".py",
   "mimetype": "text/x-python",
   "name": "python",
   "nbconvert_exporter": "python",
   "pygments_lexer": "ipython3",
   "version": "3.6.4"
  }
 },
 "nbformat": 4,
 "nbformat_minor": 2
}
