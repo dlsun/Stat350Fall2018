{
 "cells": [
  {
   "cell_type": "markdown",
   "metadata": {},
   "source": [
    "# Checking Distributions by Simulation"
   ]
  },
  {
   "cell_type": "markdown",
   "metadata": {},
   "source": [
    "The following code defines a function that adds the graph of a function to an existing plot."
   ]
  },
  {
   "cell_type": "code",
   "execution_count": null,
   "metadata": {},
   "outputs": [],
   "source": [
    "from symbulate import *\n",
    "%matplotlib inline"
   ]
  },
  {
   "cell_type": "code",
   "execution_count": null,
   "metadata": {},
   "outputs": [],
   "source": [
    "import matplotlib.pyplot as plt\n",
    "\n",
    "def plot_function(pdf):\n",
    "    xmin, xmax = plt.xlim()\n",
    "    xs = np.linspace(xmin, xmax, 200)\n",
    "    plt.plot(xs, [pdf(x) for x in xs], 'k-')"
   ]
  },
  {
   "cell_type": "code",
   "execution_count": null,
   "metadata": {},
   "outputs": [],
   "source": [
    "Z = RV(Normal())\n",
    "mu, sigma = -3, 2\n",
    "X = mu + sigma * Z\n",
    "\n",
    "def pdf_X(x):\n",
    "    return 1 / (sigma * sqrt(2 * pi)) * exp(-0.5 * ((x - mu) / sigma) ** 2)\n",
    "\n",
    "X.sim(10000).plot()\n",
    "\n",
    "# Method 1: Use the .plot() method of built-in Symbulate distributions\n",
    "#Normal(-3, 2).plot()\n",
    "\n",
    "# Method 2: Use the plot_function() function defined above\n",
    "plot_function(pdf_X)"
   ]
  },
  {
   "cell_type": "code",
   "execution_count": null,
   "metadata": {},
   "outputs": [],
   "source": []
  }
 ],
 "metadata": {
  "kernelspec": {
   "display_name": "Python 3",
   "language": "python",
   "name": "python3"
  },
  "language_info": {
   "codemirror_mode": {
    "name": "ipython",
    "version": 3
   },
   "file_extension": ".py",
   "mimetype": "text/x-python",
   "name": "python",
   "nbconvert_exporter": "python",
   "pygments_lexer": "ipython3",
   "version": "3.6.3"
  }
 },
 "nbformat": 4,
 "nbformat_minor": 2
}
