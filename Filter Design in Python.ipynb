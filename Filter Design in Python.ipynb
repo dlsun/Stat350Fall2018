{
 "cells": [
  {
   "cell_type": "code",
   "execution_count": null,
   "metadata": {
    "collapsed": true
   },
   "outputs": [],
   "source": [
    "import numpy as np\n",
    "import matplotlib.pyplot as plt\n",
    "\n",
    "from IPython.display import Audio\n",
    "\n",
    "%matplotlib inline"
   ]
  },
  {
   "cell_type": "markdown",
   "metadata": {},
   "source": [
    "## Generating a Signal\n",
    "\n",
    "First, let's generate a signal with frequencies 256 Hz and 554 Hz in equal parts."
   ]
  },
  {
   "cell_type": "code",
   "execution_count": null,
   "metadata": {},
   "outputs": [],
   "source": [
    "fs = 8000\n",
    "t = np.arange(0, 5, step=1. / fs)\n",
    "x = np.sin(2 * np.pi * 256 * t) + np.sin(2 * np.pi * 554 * t)\n",
    "\n",
    "plt.plot(t, x)\n",
    "plt.xlim(0, .1)"
   ]
  },
  {
   "cell_type": "markdown",
   "metadata": {},
   "source": [
    "You can use the `Audio()` function inside `IPython.display` to listen to any signal. Don't forget to specify the sampling rate."
   ]
  },
  {
   "cell_type": "code",
   "execution_count": null,
   "metadata": {},
   "outputs": [],
   "source": [
    "Audio(x, rate=fs)"
   ]
  },
  {
   "cell_type": "markdown",
   "metadata": {},
   "source": [
    "## Frequency Analysis of the Signal"
   ]
  },
  {
   "cell_type": "markdown",
   "metadata": {},
   "source": [
    "`np.fft.fft` is an implementation of the Fast Fourier Transform (FFT), which is an efficient algorithm that calculates the Discrete Fourier Transform (DFT).\n",
    "\n",
    "Given a time-domain signal of length $N$, the first $\\frac{N}{2}$ samples represent the values of the DFT at equally spaced frequencies in $[0, f_s / 2)$ and the last $\\frac{N}{2}$ samples represent the values of the DFT at equally spaced frequencies in $[-f_s / 2, 0)$.\n",
    "\n",
    "If the time-domain signal is real, then the DFT values at negative frequencies must be the complex conjugate of the DFT values at positive frequencies. So all of the information is in the first half of the DFT."
   ]
  },
  {
   "cell_type": "code",
   "execution_count": null,
   "metadata": {},
   "outputs": [],
   "source": [
    "x_hat = np.fft.fft(x)\n",
    "x_hat"
   ]
  },
  {
   "cell_type": "markdown",
   "metadata": {},
   "source": [
    "Since the values of the DFT are complex numbers, we often look at the magnitude or the power of these numbers."
   ]
  },
  {
   "cell_type": "code",
   "execution_count": null,
   "metadata": {},
   "outputs": [],
   "source": [
    "x_hat_pow = np.abs(x_hat) ** 2\n",
    "plt.plot(x_hat_pow)"
   ]
  },
  {
   "cell_type": "markdown",
   "metadata": {},
   "source": [
    "Let's plot this with a proper frequency axis."
   ]
  },
  {
   "cell_type": "code",
   "execution_count": null,
   "metadata": {},
   "outputs": [],
   "source": [
    "N = len(x)\n",
    "f = np.arange(0, fs / 2, step=fs / N)\n",
    "plt.plot(f, x_hat_pow[:(N // 2)])"
   ]
  },
  {
   "cell_type": "markdown",
   "metadata": {},
   "source": [
    "Now let's add the negative frequencies as well."
   ]
  },
  {
   "cell_type": "code",
   "execution_count": null,
   "metadata": {},
   "outputs": [],
   "source": [
    "N = len(x)\n",
    "f = np.arange(0, fs / 2, step=fs / N)\n",
    "plt.plot(f, x_hat_pow[:(N // 2)])\n",
    "\n",
    "f_neg = np.arange(-fs / 2, 0, step=fs / N)\n",
    "plt.plot(f_neg, x_hat_pow[(N // 2):])"
   ]
  },
  {
   "cell_type": "markdown",
   "metadata": {},
   "source": [
    "## Designing the Filter\n",
    "\n",
    "Let's design a filter that keeps the 256 Hz sinusoid, but removes the 554 Hz sinusoid.\n",
    "\n",
    "We first design the filter that we want in the frequency domain. A lowpass filter with a cutoff frequency of 400 Hz should do the trick.\n",
    "\n",
    "First, let's find the frequency response at positive frequencies."
   ]
  },
  {
   "cell_type": "code",
   "execution_count": null,
   "metadata": {},
   "outputs": [],
   "source": [
    "f_pos = np.arange(0, fs / 2, step=fs / N)\n",
    "h_hat_pos = 1. * (f_pos <= 400)\n",
    "plt.plot(f_pos, h_hat_pos)\n",
    "plt.ylim(-.1, 1.1)"
   ]
  },
  {
   "cell_type": "markdown",
   "metadata": {},
   "source": [
    "Now let's find the frequency response at negative frequencies."
   ]
  },
  {
   "cell_type": "code",
   "execution_count": null,
   "metadata": {},
   "outputs": [],
   "source": [
    "f_neg = np.arange(-fs / 2, 0, step=fs / N)\n",
    "h_hat_neg = 1. * (f_neg >= -400)\n",
    "plt.plot(f_neg, h_hat_neg)\n",
    "plt.ylim(-.1, 1.1)"
   ]
  },
  {
   "cell_type": "markdown",
   "metadata": {},
   "source": [
    "Finally, let's combine the frequency response at positive and negative frequencies. Remember that the negative frequencies go at the _end_ after the positive frequencies."
   ]
  },
  {
   "cell_type": "code",
   "execution_count": null,
   "metadata": {},
   "outputs": [],
   "source": [
    "f = np.concatenate([f_pos, f_neg])\n",
    "h_hat = np.concatenate([h_hat_pos, h_hat_neg])"
   ]
  },
  {
   "cell_type": "markdown",
   "metadata": {},
   "source": [
    "Now let's take the _inverse_ DFT to find the impulse response of this filter."
   ]
  },
  {
   "cell_type": "code",
   "execution_count": null,
   "metadata": {},
   "outputs": [],
   "source": [
    "h = np.real(np.fft.ifft(h_hat))\n",
    "plt.plot(h)"
   ]
  },
  {
   "cell_type": "markdown",
   "metadata": {},
   "source": [
    "Let's truncate and put this impulse response in the right order."
   ]
  },
  {
   "cell_type": "code",
   "execution_count": null,
   "metadata": {},
   "outputs": [],
   "source": [
    "h_trunc = np.concatenate([h[-1000:], h[:1000]])\n",
    "plt.plot(h_trunc)"
   ]
  },
  {
   "cell_type": "markdown",
   "metadata": {},
   "source": [
    "## Applying the Filter\n",
    "\n",
    "Now we apply the filter by convolving the impulse response with the signal."
   ]
  },
  {
   "cell_type": "code",
   "execution_count": null,
   "metadata": {
    "collapsed": true
   },
   "outputs": [],
   "source": [
    "y = np.convolve(x, h_trunc)\n",
    "y = y[1:] # remove the first sample (since there are an odd number of samples)"
   ]
  },
  {
   "cell_type": "code",
   "execution_count": null,
   "metadata": {},
   "outputs": [],
   "source": [
    "N = len(y)\n",
    "t = np.arange(0, N / fs, step=1. / fs)\n",
    "plt.plot(t, y)\n",
    "plt.xlim(.3, .4)"
   ]
  },
  {
   "cell_type": "markdown",
   "metadata": {},
   "source": [
    "Let's do a frequency analysis of this signal."
   ]
  },
  {
   "cell_type": "code",
   "execution_count": null,
   "metadata": {},
   "outputs": [],
   "source": [
    "f_pos = np.arange(0, fs / 2, step=fs / N)\n",
    "y_hat = np.fft.fft(y)\n",
    "y_hat_pow = np.abs(y_hat) ** 2\n",
    "\n",
    "plt.plot(f_pos, y_hat_pow[:(N // 2)])"
   ]
  },
  {
   "cell_type": "markdown",
   "metadata": {},
   "source": [
    "Finally, let's listen to the filtered signal."
   ]
  },
  {
   "cell_type": "code",
   "execution_count": null,
   "metadata": {},
   "outputs": [],
   "source": [
    "Audio(y, rate=fs)"
   ]
  }
 ],
 "metadata": {
  "anaconda-cloud": {},
  "kernelspec": {
   "display_name": "Python 3",
   "language": "python",
   "name": "python3"
  },
  "language_info": {
   "codemirror_mode": {
    "name": "ipython",
    "version": 3
   },
   "file_extension": ".py",
   "mimetype": "text/x-python",
   "name": "python",
   "nbconvert_exporter": "python",
   "pygments_lexer": "ipython3",
   "version": "3.6.3"
  }
 },
 "nbformat": 4,
 "nbformat_minor": 2
}
