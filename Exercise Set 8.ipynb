{
 "cells": [
  {
   "cell_type": "markdown",
   "metadata": {},
   "source": [
    "# Exercise Set 8\n",
    "## Due Friday, December 7 at 5 PM\n",
    "\n",
    "Questions 1-4 are graded out of 2 points:\n",
    "\n",
    "- 1 point for your answer (You must show work and/or explain your reasoning to earn credit.)\n",
    "- 1 point for your reflection (I want you to reflect on what you learned from the problem---or, if the problem was straightforward for you, what you think I was trying to teach you.)\n",
    "\n",
    "Question 5 is purely coding and is designed to make you comfortable with practical digital signal processing. For Question 5, you will earn:\n",
    "\n",
    "- 2 points for your code.\n",
    "- 1 point for your reflection.\n",
    "\n",
    "You can type your solution and reflection directly in this notebook (using LaTeX for mathematical notation). You can also prepare your solutions and reflections on a separate piece of paper and attach your code for Question 5 at the end.\n",
    "\n",
    "Keep in mind that you will have to upload your solution in the form of a PDF, so it may be worth the investment to learn how to typeset math."
   ]
  },
  {
   "cell_type": "code",
   "execution_count": null,
   "metadata": {},
   "outputs": [],
   "source": [
    "# Make sure you run this cell first!\n",
    "import numpy as np\n",
    "import matplotlib.pyplot as plt\n",
    "%matplotlib inline\n",
    "\n",
    "from IPython.display import Audio\n",
    "from scipy.io import wavfile\n",
    "from io import BytesIO"
   ]
  },
  {
   "cell_type": "markdown",
   "metadata": {},
   "source": [
    "The documentation for Symbulate can be found [here](https://dlsun.github.io/symbulate/index.html)."
   ]
  },
  {
   "cell_type": "markdown",
   "metadata": {},
   "source": [
    "# Question 1\n",
    "\n",
    "Let $\\Theta$ be a $\\text{Uniform}(\\ell=0, u=2\\pi)$ random variable and define the random process \n",
    "\n",
    "$$ X(t) = \\cos(2\\pi \\cdot 256 t + \\Theta). $$\n",
    "\n",
    "The process $\\{X(t)\\}$ is called the **random phase process**.\n",
    "\n",
    "1. Calculate the power spectral density of $\\{ X(t) \\}$. (Feel free to quote the mean and autocovariance functions that you derived on a previous exercise set.)\n",
    "2. Suppose $\\{X(t)\\}$ is passed through an LTI filter with impulse response $h(t) = 2000 e^{-400 t} u(t)$, resulting in the output process $\\{ Y(t) \\}$. Calculate the power spectral density of $\\{ Y(t) \\}$. Simplify fully. (In your final answer, $f$ should only appear inside delta functions.)\n",
    "3. What are the mean and autocovariance functions of $\\{ Y(t) \\}$? (_Hint:_ Use the PSD of $\\{ Y(t) \\}$ instead of trying to calculate this directly.)\n",
    "4. Suppose that a noisy version of the signal $\\{ X(t) + N(t) \\}$ was instead passed into the filter $h$ above, where $\\{ N(t) \\}$ is narrowband white noise process with PSD\n",
    "$$ S_N(f) = \\begin{cases} .01 & 200 < |f| < 500 \\\\ 0 & \\text{otherwise} \\end{cases}. $$\n",
    "Calculate the signal-to-noise ratio of the input and of the output. (_Hint:_ Draw a picture of the signal and the noise.)"
   ]
  },
  {
   "cell_type": "markdown",
   "metadata": {},
   "source": [
    "**YOUR ANSWER HERE**"
   ]
  },
  {
   "cell_type": "markdown",
   "metadata": {},
   "source": [
    "**YOUR REFLECTION HERE**"
   ]
  },
  {
   "cell_type": "markdown",
   "metadata": {},
   "source": [
    "# Question 2\n",
    "\n",
    "Let $W[n]$ be i.i.d. random variables for all integers $n$ (including _negative_ integers). A process $\\{ X[n] \\}$ which is defined recursively as\n",
    "$$ X[n] = \\phi X[n - 1] + W[n],$$\n",
    "where $|\\phi| < 1$, is called an **autoregressive (AR) process of order 1**. \n",
    "\n",
    "Let's suppose that $W[n]$ are i.i.d. $\\text{Normal}(\\mu=4, \\sigma=3)$. Let $\\phi = 0.5$. Assume the sampling rate is $f_s = 1\\ \\text{Hz}$.\n",
    "\n",
    "1. Calculate the power spectral density of $\\{ X[n] \\}$ using the Wiener-Khinchin Theorem. (Feel free to quote the mean and autocovariance functions that you derived on a previous exercise set.)\n",
    "2. Let's derive the power spectral density of $\\{ X[n] \\}$ a different way, using the Filter Theorem. First, notice that we can rearrange the definition of the AR(1) process above, moving all of the $X$s to one side and all of the $W$s to the other:\n",
    "$$ W[n] = X[n] - \\phi X[n-1].$$\n",
    "This equation just says that $\\{ W[n] \\}$ is the output process when you pass $\\{ X[n] \\}$ through an LTI filter. By the Filter Theorem, you should now be ale to obtain an expression for $S_X(f)$ in terms of $S_W(f)$ (which is easy to calculate).\n",
    "3. Calculate the average expected power in $\\{ X[n] \\}$ above 0.25 Hz."
   ]
  },
  {
   "cell_type": "markdown",
   "metadata": {},
   "source": [
    "**YOUR ANSWER HERE**"
   ]
  },
  {
   "cell_type": "markdown",
   "metadata": {},
   "source": [
    "**YOUR REFLECTION HERE**"
   ]
  },
  {
   "cell_type": "markdown",
   "metadata": {},
   "source": [
    "# Question 3\n",
    "\n",
    "In class, we studied a **moving average (MA) process of order 1**. In this exercise, you will investigate an **MA process of order 2**.\n",
    "\n",
    "Let $W[n]$ be i.i.d. random variables for all integers $n$ (including _negative_ integers). A process $\\{ X[n] \\}$ which is defined as  \n",
    "$$ X[n] = W[n] + \\theta_1 W[n-1] + \\theta_2 W[n-2],$$\n",
    "where $\\theta_1, \\theta_2$ are real numbers, is called an **MA process of order 2**.\n",
    "\n",
    "Let's suppose that $W[n]$ are i.i.d. $\\text{Normal}(\\mu=4, \\sigma=3)$. Let $\\theta_1 = 1$ and $\\theta_2 = -0.5$. Assume the sampling rate is $f_s = 1\\ \\text{Hz}$.\n",
    "\n",
    "1. Calculate the power spectral density of $\\{ X[n] \\}$ using the Wiener-Khinchin Theorem. (Feel free to quote the mean and autocovariance functions that you derived on a previous exercise set.)\n",
    "2. Let's derive the power spectral density of $\\{ X[n] \\}$ a different way, using the Filter Theorem. \n",
    "The equation that defines the MA(2) process just says that $\\{ X[n] \\}$ is the output process when you pass $\\{ W[n] \\}$ through an LTI filter. By the Filter Theorem, you should now be ale to obtain an expression for $S_X(f)$ in terms of $S_W(f)$ (which is easy to calculate).\n",
    "3. Calculate the average expected power in $\\{ X[n] \\}$ below 0.1 Hz."
   ]
  },
  {
   "cell_type": "markdown",
   "metadata": {},
   "source": [
    "**YOUR ANSWER HERE**"
   ]
  },
  {
   "cell_type": "markdown",
   "metadata": {},
   "source": [
    "**YOUR REFLECTION HERE**"
   ]
  },
  {
   "cell_type": "markdown",
   "metadata": {},
   "source": [
    "# Question 4\n",
    "\n",
    "Consider a particle that moves along one dimension according to Brownian motion $\\{ B(t) \\}$, with scale parameter $\\sigma = 2\\text{mm}$. Define the Brownian difference process $\\{ D(t) \\}$ as\n",
    "\n",
    "$$ D(t) = B(t + 1) - B(t). $$\n",
    "\n",
    "Intuitively, $D(t)$ tells us how far the particle will travel in the next second. \n",
    "\n",
    "1. Calculate the power spectral density of $\\{ D(t) \\}$. (Feel free to quote the mean and autocovariance functions that you derived on a previous exercise set.)\n",
    "2. Suppose $\\{D(t)\\}$ is passed through an ideal lowpass filter with transfer function\n",
    "$$ H(f) = \\begin{cases} K & |f| < 1.0 \\\\ 0 & \\text{otherwise} \\end{cases}. $$\n",
    "Calculate the power spectral density of the resulting output signal $\\{ Y(t) \\}$, as a function of the gain $K$.\n",
    "3. What is the average expected power in $\\{ Y(t) \\}$, in terms of $K$? What should the gain $K$ be so that the average expected power in the output equals the average expected power in the input, $\\{ D(t) \\}$?"
   ]
  },
  {
   "cell_type": "markdown",
   "metadata": {},
   "source": [
    "**YOUR ANSWER HERE**"
   ]
  },
  {
   "cell_type": "markdown",
   "metadata": {},
   "source": [
    "**YOUR REFLECTION HERE**"
   ]
  },
  {
   "cell_type": "markdown",
   "metadata": {},
   "source": [
    "# Question 5: Filter Design in Python"
   ]
  },
  {
   "cell_type": "markdown",
   "metadata": {},
   "source": [
    "## Part 1: Analyzing the Signal\n",
    "\n",
    "The audio file (http://users.csc.calpoly.edu/~dsun09/stat350/labs/noisy.wav) contains a short music clip that has been contaminated by additive noise. Read the file into a Numpy array as follows.\n",
    "\n",
    "```\n",
    "audio = Audio(url=\"http://users.csc.calpoly.edu/~dsun09/stat350/labs/noisy.wav\",\n",
    "              embed=True)\n",
    "fs, x = wavfile.read(BytesIO(audio.data))\n",
    "```\n",
    "\n",
    "**(a)** Plot the time-domain signal over the entire time range. Listen to the signal by having `audio` as the last line of the cell."
   ]
  },
  {
   "cell_type": "code",
   "execution_count": null,
   "metadata": {},
   "outputs": [],
   "source": [
    "# YOUR CODE HERE"
   ]
  },
  {
   "cell_type": "markdown",
   "metadata": {},
   "source": [
    "**(b)** By listening to the audio and looking at your plot above, extract a segment of the signal `x` that contains only noise and no music. Plot its power spectrum."
   ]
  },
  {
   "cell_type": "code",
   "execution_count": null,
   "metadata": {},
   "outputs": [],
   "source": [
    "# YOUR CODE HERE."
   ]
  },
  {
   "cell_type": "markdown",
   "metadata": {},
   "source": [
    "**(c)** Now extract a segment of the signal `x` that contains both noise and music. Plot its power spectrum.\n",
    "\n",
    "(**Tip:** Don't select too long a segment because the music, unlike the noise, is not stationary. In particular, the frequencies in the music will change over time. However, music is usually approximately stationary over windows of about 100 milliseconds.)"
   ]
  },
  {
   "cell_type": "code",
   "execution_count": null,
   "metadata": {},
   "outputs": [],
   "source": [
    "# YOUR CODE HERE."
   ]
  },
  {
   "cell_type": "markdown",
   "metadata": {},
   "source": [
    "## Part 2: Designing a Filter\n",
    "\n",
    "**(a)** Based on your answers to 1(b) and 1(c) above, describe in words what you want the frequency response of your filter to look like, if you want to remove as much noise as possible, while preserving the music."
   ]
  },
  {
   "cell_type": "markdown",
   "metadata": {},
   "source": [
    "**YOUR ANSWER HERE**"
   ]
  },
  {
   "cell_type": "markdown",
   "metadata": {},
   "source": [
    "**(b)** Now create the frequency response you described above in code. Make sure the frequencies are in the appropriate order, with the positive frequencies coming before the negative frequencies.\n",
    "\n",
    "(**Hint**: You may want to refer to the notebook \"Filter Design in Python\" that we went over in class for an example of how to do this.)"
   ]
  },
  {
   "cell_type": "code",
   "execution_count": null,
   "metadata": {},
   "outputs": [],
   "source": [
    "# YOUR CODE HERE."
   ]
  },
  {
   "cell_type": "markdown",
   "metadata": {},
   "source": [
    "**(c)** Take the inverse Fourier transform of the frequency response to obtain the impulse response. Truncate and rearrange the impulse response as appropriate. Store the final impulse response in a random variable `h_trunc` and plot it."
   ]
  },
  {
   "cell_type": "code",
   "execution_count": null,
   "metadata": {},
   "outputs": [],
   "source": [
    "# YOUR CODE HERE."
   ]
  },
  {
   "cell_type": "markdown",
   "metadata": {},
   "source": [
    "## Part 3: Applying the Filter\n",
    "\n",
    "Now that we have the impulse response of the desired filter, we can apply the filter by convolving it with our signal.\n",
    "\n",
    "Apply the final impulse response `h_trunc` you obtained in 2(b) above to the noisy signal `x` to obtain the output signal. Store it in a variable `y`. Plot the time-domain signal over the entire time range. If your filter worked, the noise at the beginning should be attenuated.\n",
    "\n",
    "Listen to the output signal `y` bby including the following code as the last line in a cell:\n",
    "\n",
    "```\n",
    "Audio(y, rate=fs)\n",
    "```\n",
    "\n",
    "(**Hint**: Again, you may want to refer to the notebook \"Filter Design in Python\" for an example of how to do this.)"
   ]
  },
  {
   "cell_type": "code",
   "execution_count": null,
   "metadata": {},
   "outputs": [],
   "source": [
    "# YOUR CODE HERE."
   ]
  },
  {
   "cell_type": "markdown",
   "metadata": {},
   "source": [
    "**YOUR REFLECTION HERE**: Please comment on how well your filter performed, as well as on what you learned from this exercise."
   ]
  },
  {
   "cell_type": "markdown",
   "metadata": {},
   "source": [
    "# Submission Instructions\n",
    "\n",
    "- If you completed this assignment directly in this notebook, export this notebook to HTML by clicking on `File > Export Notebook As > HTML`, print the resulting HTML file to PDF, and [upload the PDF to PolyLearn](https://polylearn.calpoly.edu/AY_2018-2019/mod/assign/view.php?id=183615).\n",
    "- If you completed this assignment on a separate piece of paper, scan the pages into a PDF. Make sure that the pages are in order and are right-side up. (You will earn no credit for any pages that are out-of-order or upside down.) Include your solution to Question 5 at the end of this PDF. Then, [upload the PDF to PolyLearn](https://polylearn.calpoly.edu/AY_2018-2019/mod/assign/view.php?id=183615)."
   ]
  }
 ],
 "metadata": {
  "kernelspec": {
   "display_name": "Python 3",
   "language": "python",
   "name": "python3"
  },
  "language_info": {
   "codemirror_mode": {
    "name": "ipython",
    "version": 3
   },
   "file_extension": ".py",
   "mimetype": "text/x-python",
   "name": "python",
   "nbconvert_exporter": "python",
   "pygments_lexer": "ipython3",
   "version": "3.6.3"
  }
 },
 "nbformat": 4,
 "nbformat_minor": 2
}
