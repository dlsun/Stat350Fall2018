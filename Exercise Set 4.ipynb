{
 "cells": [
  {
   "cell_type": "markdown",
   "metadata": {},
   "source": [
    "# Exercise Set 4\n",
    "## Due Friday, October 26 at 5 PM\n",
    "\n",
    "Each question is graded out of 2-3 points:\n",
    "\n",
    "- 1 point for your answer (You must show work and/or explain your reasoning to earn credit.)\n",
    "- For selected questions, 1 point for writing a simulation using Symbulate checking your answer. (Designing an appropriate simulation is challenging! You will have to think hard about the problem for many of these.)\n",
    "- 1 point for your reflection (I want you to reflect on what you learned from the problem---or, if the problem was straightforward for you, what you think I was trying to teach you.)\n",
    "\n",
    "You can type your solution, simulation code, and reflection directly in this notebook (using LaTeX for mathematical notation). You can also prepare your solution and reflection on a separate piece of paper and attach your simulations for all 5 questions at the end.\n",
    "\n",
    "Keep in mind that you will have to upload your solution in the form of a PDF, so it may be worth the investment to learn how to typeset math."
   ]
  },
  {
   "cell_type": "code",
   "execution_count": null,
   "metadata": {},
   "outputs": [],
   "source": [
    "# Make sure you run this cell first!\n",
    "from symbulate import *\n",
    "%matplotlib inline"
   ]
  },
  {
   "cell_type": "markdown",
   "metadata": {},
   "source": [
    "The documentation for Symbulate can be found [here](https://dlsun.github.io/symbulate/index.html)."
   ]
  },
  {
   "cell_type": "markdown",
   "metadata": {},
   "source": [
    "## Question 1\n",
    "\n",
    "In this question, you will work out formulas for the expected value, variance, and standard deviation of a $\\text{Normal}(\\mu, \\sigma)$ random variable. However, you should not need to do a lot of messy calculus.\n",
    "\n",
    "- First, work out $E[Z]$ and $\\text{Var}[Z]$, where $Z$ is a $\\text{Normal}(0, 1)$ random variable.\n",
    "- Next, use the fact that any $\\text{Normal}(\\mu, \\sigma)$ random variable can be expressed as $X = \\mu + \\sigma Z$, and use properties of expected value and variance."
   ]
  },
  {
   "cell_type": "markdown",
   "metadata": {},
   "source": [
    "**YOUR ANSWER HERE**"
   ]
  },
  {
   "cell_type": "code",
   "execution_count": null,
   "metadata": {},
   "outputs": [],
   "source": [
    "# NO SIMULATION REQUIRED"
   ]
  },
  {
   "cell_type": "markdown",
   "metadata": {},
   "source": [
    "**YOUR REFLECTION HERE**"
   ]
  },
  {
   "cell_type": "markdown",
   "metadata": {},
   "source": [
    "## Question 2\n",
    "\n",
    "Your headphones have a tendency to run out of batteries at the most inconvenient times, so you purchase two batteries. Let $X$ be the lifetime of the first battery (in days), and let $Y$ be the lifetime of the second battery (in days). Suppose that $(X, Y)$ have joint p.d.f. \n",
    "\n",
    "$$p(x, y) = \\frac{1}{6} e^{-x/2 - y/3}.$$\n",
    "\n",
    "1.  Calculate $P(Y > X)$. What is the practical significance of this probability?\n",
    "2.  Calculate $P(X + Y \\leq 4)$. What is the practical significance of this probability?\n",
    "3.  Are $X$ and $Y$ independent? How do you know? (There are many ways to check independence. See if you can answer this in at least two different ways.)"
   ]
  },
  {
   "cell_type": "markdown",
   "metadata": {},
   "source": [
    "**YOUR ANSWER HERE**"
   ]
  },
  {
   "cell_type": "code",
   "execution_count": null,
   "metadata": {},
   "outputs": [],
   "source": [
    "# YOUR SIMULATION HERE\n",
    "\n",
    "# To get you started, this defines RVs X, Y with the given joint PDF\n",
    "X, Y = RV(Exponential(1/2) * Exponential(1/3))\n",
    "\n",
    "# This simulates 10000 instances of X, Y, returning True if Y > X\n",
    "(Y > X).sim(10000)\n",
    "\n",
    "# Remember that you can call .tabulate() on the results of a simulation!"
   ]
  },
  {
   "cell_type": "markdown",
   "metadata": {},
   "source": [
    "**YOUR REFLECTION HERE**"
   ]
  },
  {
   "cell_type": "markdown",
   "metadata": {},
   "source": [
    "## Question 3\n",
    "\n",
    "(This is a common interview question.)\n",
    "\n",
    "Dr. No has captured James Bond and forces him to play a game of Russian roulette. (Note: [Russian roulette](https://en.wikipedia.org/wiki/Russian_roulette) is very different from the casino game roulette!) Dr. No shows him an revolver with 6 empty chambers and places 2 bullets into adjacent chambers. He makes Bond spin the cylinder, place the muzzle against his head, and pull the trigger. He survives! Luckily for Bond, the cylinder stopped on one of the empty chambers. \n",
    "\n",
    "Now Dr. No gives Bond two options: he can re-spin the cylinder before firing again or he can fire with the gun in its current state. (Keep in mind that the cylinder rotates to the next chamber each time the gun is fired.) What option should Bond choose to maximize his chance of surviving?\n",
    "\n",
    "- Clearly write out the conditional probability of interest using $P(B|A)$ notation.\n",
    "- Find the probability. (Note: You should not need to do any calculations. You should be able to find the probability just by thinking carefully about the information you have. Make sure you explain your reasoning carefully.)"
   ]
  },
  {
   "cell_type": "markdown",
   "metadata": {},
   "source": [
    "**YOUR ANSWER HERE**"
   ]
  },
  {
   "cell_type": "code",
   "execution_count": null,
   "metadata": {},
   "outputs": [],
   "source": [
    "# NO SIMULATION REQUIRED"
   ]
  },
  {
   "cell_type": "markdown",
   "metadata": {},
   "source": [
    "**YOUR REFLECTION HERE**"
   ]
  },
  {
   "cell_type": "markdown",
   "metadata": {},
   "source": [
    "## Question 4\n",
    "\n",
    "An existing drug has a $0.5$ probability of curing a disease. A pharmaceutical company is trying to determine the efficacy of a new drug, which has a $0.6$ probability of curing the disease. They randomly assign 4 subjects with the disease to receive the existing drug and another 4 subjects with the disease to receive the new drug. Let $X$ be the number of people who are cured using the existing drug, and $Y$ be the number of people who are cured using the new drug. You may assume that the outcomes of the 8 subjects in the study are independent.\n",
    "\n",
    "1.  Calculate $P(Y > X)$. What is the practical significance of this probability?\n",
    "2.  Calculate $P(X + Y \\leq 4)$. What is the practical significance of this probability?"
   ]
  },
  {
   "cell_type": "markdown",
   "metadata": {},
   "source": [
    "**YOUR ANSWER HERE**"
   ]
  },
  {
   "cell_type": "code",
   "execution_count": null,
   "metadata": {},
   "outputs": [],
   "source": [
    "# YOUR SIMULATION HERE\n",
    "\n",
    "# Define independent random variables X, Y.\n",
    "# (Note: You will need to change the distributions to the actual distributions of X and Y.)\n",
    "X, Y = RV(Geometric(p=0.5) * Geometric(p=0.6))\n",
    "\n",
    "# Now you can simulate probabilities, just as you did above in Question 2."
   ]
  },
  {
   "cell_type": "markdown",
   "metadata": {},
   "source": [
    "**YOUR REFLECTION HERE**"
   ]
  },
  {
   "cell_type": "markdown",
   "metadata": {},
   "source": [
    "## Question 5\n",
    "\n",
    "You toss a fair coin 10 times. Let $X$ be the number of heads in the first 7 tosses. Let $Y$ be the number of heads in all 10 tosses.\n",
    "\n",
    "1.  Write down the joint p.m.f. of $X$ and $Y$. Be sure to clearly specify where the joint p.m.f. is non-zero.\n",
    "2.  Calculate the conditional distribution of $X$ given $Y=4$. Is it a distribution you recognize?"
   ]
  },
  {
   "cell_type": "markdown",
   "metadata": {},
   "source": [
    "**YOUR ANSWER HERE**"
   ]
  },
  {
   "cell_type": "code",
   "execution_count": null,
   "metadata": {},
   "outputs": [],
   "source": [
    "# YOUR SIMULATION HERE\n",
    "\n",
    "# Simulate the results of 10 tosses\n",
    "tosses = RV(BoxModel([0, 1], size=10, replace=True))\n",
    "\n",
    "# Define random variables which are the first 5 and the last 5 tosses.\n",
    "# (You will need to modify this.)\n",
    "X = tosses[:5].apply(sum)\n",
    "Y = tosses[5:].apply(sum)\n",
    "\n",
    "# You can simulate the conditional distribution of one variable given the other.\n",
    "(Y | (X == 3)).sim(10000)"
   ]
  },
  {
   "cell_type": "markdown",
   "metadata": {},
   "source": [
    "**YOUR REFLECTION HERE**"
   ]
  },
  {
   "cell_type": "markdown",
   "metadata": {},
   "source": [
    "# Submission Instructions\n",
    "\n",
    "- If you completed this assignment directly in this notebook, export this notebook to PDF by clicking on `File > Export Notebook As > PDF`, and [upload the PDF to PolyLearn](https://polylearn.calpoly.edu/AY_2018-2019/mod/assign/view.php?id=152306).\n",
    "- If you completed this assignment on a separate piece of paper, scan the pages into a PDF. Make sure that the pages are in order and are right-side up. (You will earn no credit for any pages that are out-of-order or upside down.) Although we would prefer that your simulations be together with your solution to each question, it is acceptable to include your simulations for all 5 questions at the _end_ of your submission. Then, [upload the PDF to PolyLearn](https://polylearn.calpoly.edu/AY_2018-2019/mod/assign/view.php?id=152306)."
   ]
  }
 ],
 "metadata": {
  "kernelspec": {
   "display_name": "Python 3",
   "language": "python",
   "name": "python3"
  },
  "language_info": {
   "codemirror_mode": {
    "name": "ipython",
    "version": 3
   },
   "file_extension": ".py",
   "mimetype": "text/x-python",
   "name": "python",
   "nbconvert_exporter": "python",
   "pygments_lexer": "ipython3",
   "version": "3.6.3"
  }
 },
 "nbformat": 4,
 "nbformat_minor": 2
}
