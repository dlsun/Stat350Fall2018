{
 "cells": [
  {
   "cell_type": "markdown",
   "metadata": {},
   "source": [
    "# Exercise Set 5\n",
    "## Due Friday, November 2 at 5 PM\n",
    "\n",
    "Each question is graded out of 2-3 points:\n",
    "\n",
    "- 1 point for your answer (You must show work and/or explain your reasoning to earn credit.)\n",
    "- 1 point for writing a simulation using Symbulate checking your answer. (Designing an appropriate simulation is challenging! You will have to think hard about the problem for many of these.)\n",
    "- 1 point for your reflection (I want you to reflect on what you learned from the problem---or, if the problem was straightforward for you, what you think I was trying to teach you.)\n",
    "\n",
    "You can type your solution, simulation code, and reflection directly in this notebook (using LaTeX for mathematical notation). You can also prepare your solution and reflection on a separate piece of paper and attach your simulations for all 5 questions at the end.\n",
    "\n",
    "Keep in mind that you will have to upload your solution in the form of a PDF, so it may be worth the investment to learn how to typeset math."
   ]
  },
  {
   "cell_type": "code",
   "execution_count": null,
   "metadata": {},
   "outputs": [],
   "source": [
    "# Make sure you run this cell first!\n",
    "from symbulate import *\n",
    "%matplotlib inline"
   ]
  },
  {
   "cell_type": "markdown",
   "metadata": {},
   "source": [
    "The documentation for Symbulate can be found [here](https://dlsun.github.io/symbulate/index.html)."
   ]
  },
  {
   "cell_type": "markdown",
   "metadata": {},
   "source": [
    "## Question 1\n",
    "\n",
    "Consider participants in a weight loss program. Let $(X, Y)$ be the \"before\" and \"after\" weight (in lbs) of a randomly selected individual. [In a lecture video](https://web.calpoly.edu/~dsun09/lessons/linearity.html), you saw that if the quantity of interest is the _absolute_ change in weight $X - Y$, then it doesn't matter whether we calculate (1) the average change or (2) the change in the average because by linearity of expectation,\n",
    "\n",
    "$$ E[X - Y] = E[X] - E[Y]. $$\n",
    "\n",
    "What if we are instead interested in the _relative_, or _percent_, change in weight: $100 \\cdot \\frac{X - Y}{X} = 100 \\left(1 - \\frac{Y}{X} \\right)$? Does it make a difference whether we:\n",
    "\n",
    "1. first calculate the percent change for each participant, and then average, i.e.,\n",
    "$$ E\\left[100 \\left(1 - \\frac{Y}{X} \\right)\\right], $$\n",
    "or \n",
    "2. first calculate the average weights, $E[X]$ and $E[Y]$, and then calculate the percent change in the averages, i.e.,\n",
    "$$ 100 \\left(1 - \\frac{E[Y]}{E[X]} \\right)? $$\n",
    "\n",
    "To be concrete, evaluate the two expressions above for $X \\sim \\text{Uniform}(250, 300)$ and $Y \\sim \\text{Uniform}(230, 280)$, assuming that $X$ and $Y$ are independent. (Independence isn't terribly realistic here, but let's go with it, for the sake of illustration.) Are the two expressions equivalent?\n",
    "\n",
    "Hint: You do not need to use 2D LOTUS for this problem. You can break down all of the expected values first so that you do not have to compute any double integrals. However, be careful not to simplify the expected values too much. For example, keep in mind that $E[Y / X] \\neq E[Y] / E[X]$."
   ]
  },
  {
   "cell_type": "markdown",
   "metadata": {},
   "source": [
    "**YOUR ANSWER HERE**"
   ]
  },
  {
   "cell_type": "code",
   "execution_count": null,
   "metadata": {},
   "outputs": [],
   "source": [
    "# YOUR SIMULATION HERE\n",
    "\n",
    "# To get you started, this is a template for generating two independent random variables.\n",
    "X, Y = RV(Exponential(1) * Exponential(2))\n",
    "\n",
    "# Let's simulate 10000 realizations of Y / X and then average.\n",
    "# (This is an approximation to E[Y / X].)\n",
    "(Y / X).sim(10000).mean()"
   ]
  },
  {
   "cell_type": "markdown",
   "metadata": {},
   "source": [
    "**YOUR REFLECTION HERE**"
   ]
  },
  {
   "cell_type": "markdown",
   "metadata": {},
   "source": [
    "## Question 2\n",
    "\n",
    "A fair coin is tossed 100 times. How many occurrences of the pattern `HTH` would you _expect_ to see in the 100 tosses? (Note that overlap is allowed, so `...HTHTH...` counts as 2 occurrences of the pattern `HTH`.)\n",
    "\n",
    "Hint: Define random variables so that each random variable looks at 3 consecutive tosses."
   ]
  },
  {
   "cell_type": "markdown",
   "metadata": {},
   "source": [
    "**YOUR ANSWER HERE**"
   ]
  },
  {
   "cell_type": "code",
   "execution_count": null,
   "metadata": {},
   "outputs": [],
   "source": [
    "# YOUR SIMULATION HERE\n",
    "\n",
    "# This function counts occurrences of the pattern HTT.\n",
    "def count_HTT(outcome):\n",
    "    count = 0\n",
    "    for i in range(len(outcome) - 2):\n",
    "        if outcome[i:(i + 3)] == (\"H\", \"T\", \"T\"):\n",
    "            count += 1\n",
    "    return count\n",
    "\n",
    "# Simulate 20 tosses of a coin.\n",
    "P = BoxModel([\"H\", \"T\"], size=20, replace=True)\n",
    "\n",
    "# Define random variable which counts occurrences of HTT.\n",
    "X = RV(P, count_HTT)"
   ]
  },
  {
   "cell_type": "markdown",
   "metadata": {},
   "source": [
    "**YOUR REFLECTION HERE**"
   ]
  },
  {
   "cell_type": "markdown",
   "metadata": {},
   "source": [
    "## Question 3\n",
    "\n",
    "In computer science, a [hash table](https://en.wikipedia.org/wiki/Hash_table) (or hash map) is a common data structure that allows for fast retrieval of information. For example, a retailer might use a hash table to associate a customer's phone number to their name. For each phone number $x$, the corresponding customer name is stored at memory address $h(x)$, which we will assume is an integer between 1 and 1000. The hash function $h$ is chosen to be pseudorandom, so we can assume that each phone number is equally likely to map to any address between 1 and 1000, independently of any other phone number.\n",
    "\n",
    "One problem with hash tables is the possibility of _collisions_. That is, it is possible for two different phone numbers $x \\neq y$ to map to the same address $h(x) = h(y)$. Suppose a retailer has 700 customers that it stores in the hash table.\n",
    "\n",
    "1. Find the expected number of addresses with no phone numbers.\n",
    "2. Find the expected number of addresses with exactly 1 phone number.\n",
    "3. Find the expected number of addresses with collisions (i.e., more than 1 phone number).\n",
    "\n",
    "Hint: As a sanity check, what should these three expected values add up to, and why?"
   ]
  },
  {
   "cell_type": "markdown",
   "metadata": {},
   "source": [
    "**YOUR ANSWER HERE**"
   ]
  },
  {
   "cell_type": "code",
   "execution_count": null,
   "metadata": {},
   "outputs": [],
   "source": [
    "# YOUR SIMULATION HERE\n",
    "\n",
    "# To get you started, the following code calculates the expected\n",
    "# number of collisions in a hash map with 100 addresses and 50 items.\n",
    "\n",
    "def count_collisions(outcome):\n",
    "    # The difference between the number of addresses and the\n",
    "    # number of unique addresses is the number of collisions.\n",
    "    return len(outcome) - len(set(outcome))\n",
    "\n",
    "P = BoxModel(list(range(100)), size=50, replace=True)\n",
    "X = RV(P, count_collisions)\n",
    "\n",
    "X.sim(10000).mean()"
   ]
  },
  {
   "cell_type": "markdown",
   "metadata": {},
   "source": [
    "**YOUR REFLECTION HERE**"
   ]
  },
  {
   "cell_type": "markdown",
   "metadata": {},
   "source": [
    "## Question 4\n",
    "\n",
    "Let $X_1, X_2, ..., X_n$ be independent random variables from the same distribution. Assume the distribution has expected value $\\mu$ and variance $\\sigma^2$.\n",
    "\n",
    "Define a new random variable $\\bar X_n$ to be the average of these $n$ values:\n",
    "$$ \\bar X_n \\overset{\\text{def}}{=} \\frac{X_1 + X_2 + ... + X_n}{n}. $$\n",
    "\n",
    "1. Calculate $E[\\bar X_n]$ in terms of $\\mu$ and $\\sigma^2$.\n",
    "2. Calculate $\\text{Var}[\\bar X_n]$ in terms of $\\mu$ and $\\sigma^2$.\n",
    "3. What happens to $E[\\bar X_n]$ and $\\text{Var}[\\bar X_n]$ as $n \\to \\infty$? What does this imply about the\n",
    "distribution of $\\bar X_n$ as $n \\to \\infty$?"
   ]
  },
  {
   "cell_type": "markdown",
   "metadata": {},
   "source": [
    "**YOUR ANSWER HERE**"
   ]
  },
  {
   "cell_type": "code",
   "execution_count": null,
   "metadata": {},
   "outputs": [],
   "source": [
    "# YOUR SIMULATION HERE\n",
    "\n",
    "# The following code defines a random variable X_bar that is the \n",
    "# mean of 100 independent Exponential(1) random variables.\n",
    "X = RV(Exponential(1) ** 100)\n",
    "X_bar = X.apply(mean)\n",
    "\n",
    "# The following code simulates 10000 realizations and calculates\n",
    "# the variance.\n",
    "X_bar.sim(10000).var()\n",
    "\n",
    "# You should try simulating with different starting distributions\n",
    "# and different values of n."
   ]
  },
  {
   "cell_type": "markdown",
   "metadata": {},
   "source": [
    "**YOUR REFLECTION HERE**"
   ]
  },
  {
   "cell_type": "markdown",
   "metadata": {},
   "source": [
    "## Question 5\n",
    "\n",
    "Let $X$ represent the number of bowls of soup sold and $Y$ the number of scoops of ice cream sold during a randomly selected week at a certain local restaurant. Suppose $X$ has a mean of $250$ with a standard deviation of $50$, and $Y$ has a mean of $450$ with a standard deviation of $100$. The covariance between $X$ and $Y$ is $-2000$. Suppose that $X$ and $Y$ have a bivariate normal (or joint Gaussian) distribution.\n",
    "\n",
    "1. In a week where the restaurant sells $600$ scoops of ice cream, find the probability that the restaurant sells more than $250$ bowls of soup.\n",
    "2. Suppose that each bowl of soup costs 6 dollars and each scoop of ice cream costs 2 dollars. Calculate the probability that the restaurant's weekly sales exceeds 3000 dollars.\n",
    "3. What is the probability that the restaurant sells more scoops of ice cream than bowls of soup in a week? (Hint: Rewrite $Y > X$ in terms of the linear combination $Y - X$.)"
   ]
  },
  {
   "cell_type": "markdown",
   "metadata": {},
   "source": [
    "**YOUR ANSWER HERE**"
   ]
  },
  {
   "cell_type": "code",
   "execution_count": null,
   "metadata": {},
   "outputs": [],
   "source": [
    "# YOUR SIMULATION HERE\n",
    "\n",
    "# Define a bivariate normal distribution.\n",
    "X, Y = RV(BivariateNormal(mean1=250, sd1=50, mean2=450, sd2=100, cov=-2000))\n",
    "\n",
    "# Example of how to simulate from the conditional distribution given Y = 600. \n",
    "# We need to include a \"buffer\" around 600, since this is a continuous \n",
    "# distribution. This may take a long time if your buffer is too small or if \n",
    "# you ask for too many simulations.\n",
    "(X | ((590 < Y) & (Y < 610))).sim(100)"
   ]
  },
  {
   "cell_type": "markdown",
   "metadata": {},
   "source": [
    "**YOUR REFLECTION HERE**"
   ]
  },
  {
   "cell_type": "markdown",
   "metadata": {},
   "source": [
    "# Submission Instructions\n",
    "\n",
    "- If you completed this assignment directly in this notebook, export this notebook to HTML by clicking on `File > Export Notebook As > HTML`, print the resulting HTML file to PDF, and [upload the PDF to PolyLearn](https://polylearn.calpoly.edu/AY_2018-2019/mod/assign/view.php?id=158052).\n",
    "- If you completed this assignment on a separate piece of paper, scan the pages into a PDF. Make sure that the pages are in order and are right-side up. (You will earn no credit for any pages that are out-of-order or upside down.) Although we would prefer that your simulations be together with your solution to each question, it is acceptable to include your simulations for all 5 questions at the _end_ of your submission. Then, [upload the PDF to PolyLearn](https://polylearn.calpoly.edu/AY_2018-2019/mod/assign/view.php?id=158052)."
   ]
  }
 ],
 "metadata": {
  "kernelspec": {
   "display_name": "Python 3",
   "language": "python",
   "name": "python3"
  },
  "language_info": {
   "codemirror_mode": {
    "name": "ipython",
    "version": 3
   },
   "file_extension": ".py",
   "mimetype": "text/x-python",
   "name": "python",
   "nbconvert_exporter": "python",
   "pygments_lexer": "ipython3",
   "version": "3.6.3"
  }
 },
 "nbformat": 4,
 "nbformat_minor": 2
}
