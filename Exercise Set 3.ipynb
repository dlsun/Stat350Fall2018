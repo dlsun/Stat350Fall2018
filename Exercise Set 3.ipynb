{
 "cells": [
  {
   "cell_type": "markdown",
   "metadata": {},
   "source": [
    "# Exercise Set 3\n",
    "## Due Friday, October 12 at 5 PM\n",
    "\n",
    "Each question will be graded out of 3 points:\n",
    "\n",
    "- 1 point for your answer (You must show work and/or explain your reasoning to earn credit.)\n",
    "- 1 point for writing a simulation using Symbulate checking your answer. (Designing an appropriate simulation is challenging! You will have to think hard about the problem for many of these.)\n",
    "- 1 point for your reflection (I want you to reflect on what you learned from the problem---or, if the problem was straightforward for you, what you think I was trying to teach you.)\n",
    "\n",
    "You can type your solution, simulation code, and reflection directly in this notebook (using LaTeX for mathematical notation). You can also prepare your solution and reflection on a separate piece of paper and attach your simulations for all 5 questions at the end.\n",
    "\n",
    "Keep in mind that you will have to upload your solution in the form of a PDF, so it may be worth the investment to learn how to typeset math."
   ]
  },
  {
   "cell_type": "code",
   "execution_count": null,
   "metadata": {},
   "outputs": [],
   "source": [
    "# Make sure you run this cell first!\n",
    "from symbulate import *\n",
    "%matplotlib inline"
   ]
  },
  {
   "cell_type": "markdown",
   "metadata": {},
   "source": [
    "The documentation for Symbulate can be found [here](https://dlsun.github.io/symbulate/index.html)."
   ]
  },
  {
   "cell_type": "markdown",
   "metadata": {},
   "source": [
    "## Question 1\n",
    "\n",
    "The lifetime of a radioactive particle until it decays is usually modeled by an exponential distribution.\n",
    "\n",
    "### Part A\n",
    "\n",
    "Carbon-14, the isotope used in radiocarbon dating, has a half-life of 5,730 years. This means that the median lifetime of a carbon-14 atom is 5,730 years. (In other words, an individual atom has a 0.50 probability of decaying sooner than 5,730 years.) What is the probability that an individual carbon-14 atom will live past 8,000 years?\n",
    "\n",
    "### Part B\n",
    "\n",
    "Suppose that 98% of a sample of an unknown isotope is still alive (has not decayed) after 3 years, so you may assume that there is a $0.98$ probability the lifetime of an individual particle is longer than 3 years. Find the half-life of this isotope.\n",
    "\n",
    "(Yes, I know there are non-probability ways to do this problem. Feel free to use these methods to check your answer, but I'd like you to do this problem using exponential distributions.)"
   ]
  },
  {
   "cell_type": "markdown",
   "metadata": {},
   "source": [
    "**YOUR ANSWER HERE**"
   ]
  },
  {
   "cell_type": "code",
   "execution_count": null,
   "metadata": {},
   "outputs": [],
   "source": [
    "# YOUR SIMULATION HERE\n",
    "\n",
    "# To get you started, this defines a RV X with an\n",
    "# Exponential(1) distribution, simulates 10000\n",
    "# instances, plots the simulations, and counts \n",
    "# the number greater than 4.\n",
    "X = RV(Exponential(1))\n",
    "x = X.sim(10000)\n",
    "x.plot()\n",
    "x.count_gt(4)"
   ]
  },
  {
   "cell_type": "markdown",
   "metadata": {},
   "source": [
    "**YOUR REFLECTION HERE**"
   ]
  },
  {
   "cell_type": "markdown",
   "metadata": {},
   "source": [
    "## Question 2\n",
    "\n",
    "### Part A\n",
    "\n",
    "Let $U \\sim \\textrm{Uniform}(0, 1)$. Find the p.d.f. of $-\\log(U)$, where $\\log$ is the natural (base $e$) logarithm.\n",
    "\n",
    "### Part B\n",
    "\n",
    "Let $X \\sim \\textrm{Exponential}(1)$. Find the p.d.f. of $aX$ for some constant $a > 0$.\n",
    "\n",
    "### Part C\n",
    "\n",
    "Every programming language has a function to simulate from a $\\textrm{Uniform}(0, 1)$ distribution, but only a handful have a function to simulate from an exponential distribution. Explain how you would use your results from Parts A and B to simulate an $\\textrm{Exponential}(\\lambda)$ random variable for any desired value of $\\lambda > 0$."
   ]
  },
  {
   "cell_type": "markdown",
   "metadata": {},
   "source": [
    "**YOUR ANSWER HERE**"
   ]
  },
  {
   "cell_type": "code",
   "execution_count": null,
   "metadata": {},
   "outputs": [],
   "source": [
    "# YOUR SIMULATION HERE\n",
    "\n",
    "# To get you started, this defines a RV U with an\n",
    "# Uniform(0, 1) distribution and a RV X = -log(U).\n",
    "U = RV(Uniform(0, 1))\n",
    "X = -log(U)\n",
    "\n",
    "# This plots the Uniform(0, 1) and Exponential(2)\n",
    "# p.d.f.s on the same graph.\n",
    "Exponential(2).plot()\n",
    "Uniform(0, 1).plot()\n",
    "\n",
    "# In general, repeated calls to .plot() will add\n",
    "# the plots to the same graph."
   ]
  },
  {
   "cell_type": "markdown",
   "metadata": {},
   "source": [
    "**YOUR REFLECTION HERE**"
   ]
  },
  {
   "cell_type": "markdown",
   "metadata": {},
   "source": [
    "## Question 3\n",
    "\n",
    "The time it takes Don Draper to commute from home to work is approximately \n",
    "normally distributed with $\\mu=30$ minutes and $\\sigma=5$ minutes. \n",
    "Don needs to be at work by 9 A.M.\n",
    "\n",
    "A. If he leaves home at 8:40 A.M., what is the probability he is late for work?\n",
    "\n",
    "B. What time does he need to leave home so that he is late for work no more than 3\\% of the time?"
   ]
  },
  {
   "cell_type": "markdown",
   "metadata": {},
   "source": [
    "**YOUR ANSWER HERE**"
   ]
  },
  {
   "cell_type": "code",
   "execution_count": null,
   "metadata": {},
   "outputs": [],
   "source": [
    "# YOUR SIMULATION HERE\n",
    "\n",
    "# To get you started, this defines a RV X that is\n",
    "# normally distributed with mu=30 and sigma=5.\n",
    "X = RV(Normal(30, 5))"
   ]
  },
  {
   "cell_type": "markdown",
   "metadata": {},
   "source": [
    "**YOUR REFLECTION HERE**"
   ]
  },
  {
   "cell_type": "markdown",
   "metadata": {},
   "source": [
    "## Question 4\n",
    "\n",
    "The daily percent change in the price of Amazon stock approximately follows a normal distribution with $\\mu = 0.2\\%$ and $\\sigma = 1.1\\%$. You hold Amazon stock for 15 days and then sell it. (In financial models, it is typically assumed that the change in stock price on one day does not affect the change on another.) \n",
    "\n",
    "A. What is the probability that the Amazon stock will _increase_ in price on exactly 8 of the 15 days?\n",
    "\n",
    "B. What is the probability that the Amazon stock will _increase_ in price on more than 2 of the 15 days?\n",
    "\n",
    "C. What is the probability that the Amazon stock will _decrease_ in price on more than 2 of the 15 days?"
   ]
  },
  {
   "cell_type": "markdown",
   "metadata": {},
   "source": [
    "**YOUR ANSWER HERE**"
   ]
  },
  {
   "cell_type": "code",
   "execution_count": null,
   "metadata": {},
   "outputs": [],
   "source": [
    "# YOUR SIMULATION HERE\n",
    "\n",
    "# To get you started, this defines a RV X that is a vector\n",
    "# of 15 values from a normal distribution and a RV N that\n",
    "# counts the number of these values greater than (\"gt\") 0.\n",
    "X = RV(Normal(.2, 1.1) ** 15)\n",
    "N = X.apply(count_gt(0))\n",
    "N.sim(1000)"
   ]
  },
  {
   "cell_type": "markdown",
   "metadata": {},
   "source": [
    "**YOUR REFLECTION HERE**"
   ]
  },
  {
   "cell_type": "markdown",
   "metadata": {},
   "source": [
    "## Question 5\n",
    "\n",
    "Let $Z$ be a standard normal random variable. Recall that its p.d.f. is\n",
    "$$ p_Z(z) = \\frac{1}{\\sqrt{2\\pi}} e^{-z^2 / 2}. $$\n",
    "\n",
    "### Part A\n",
    "\n",
    "Find the p.d.f. of $Y = Z^2$. This p.d.f. will come in handy in a few weeks.\n",
    "\n",
    "(_Hint_: Don't be afraid to leave answers in terms of $\\Phi$ initially. The $\\Phi$ will disappear later when you take derivatives.)\n",
    "\n",
    "### Part B\n",
    "\n",
    "Find the p.d.f. of $Y = e^Z$. The random variable $Y$ has a **lognormal** distribution. This is a useful distribution for modeling extremely skewed data, where most observations are small but a few are extremely large."
   ]
  },
  {
   "cell_type": "markdown",
   "metadata": {},
   "source": [
    "**YOUR ANSWER HERE**"
   ]
  },
  {
   "cell_type": "code",
   "execution_count": null,
   "metadata": {},
   "outputs": [],
   "source": [
    "# YOUR SIMULATION HERE"
   ]
  },
  {
   "cell_type": "markdown",
   "metadata": {},
   "source": [
    "**YOUR REFLECTION HERE**"
   ]
  },
  {
   "cell_type": "markdown",
   "metadata": {},
   "source": [
    "# Submission Instructions\n",
    "\n",
    "- If you completed this assignment directly in this notebook, export this notebook to PDF by clicking on `File > Export Notebook As > PDF`, and [upload the PDF to PolyLearn](https://polylearn.calpoly.edu/AY_2018-2019/mod/assign/view.php?id=140654).\n",
    "- If you completed this assignment on a separate piece of paper, scan the pages into a PDF. Make sure that the pages are in order and are right-side up. (You will earn no credit for any pages that are out-of-order or upside down.) Although we would prefer that your simulations be together with your solution to each question, it is acceptable to include your simulations for all 5 questions at the _end_ of your submission. Then, [upload the PDF to PolyLearn](https://polylearn.calpoly.edu/AY_2018-2019/mod/assign/view.php?id=140654)."
   ]
  }
 ],
 "metadata": {
  "kernelspec": {
   "display_name": "Python 3",
   "language": "python",
   "name": "python3"
  },
  "language_info": {
   "codemirror_mode": {
    "name": "ipython",
    "version": 3
   },
   "file_extension": ".py",
   "mimetype": "text/x-python",
   "name": "python",
   "nbconvert_exporter": "python",
   "pygments_lexer": "ipython3",
   "version": "3.6.3"
  }
 },
 "nbformat": 4,
 "nbformat_minor": 2
}
