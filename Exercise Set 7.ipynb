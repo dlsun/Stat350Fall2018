{
 "cells": [
  {
   "cell_type": "markdown",
   "metadata": {},
   "source": [
    "# Exercise Set 7\n",
    "## Due Friday, November 30 at 5 PM\n",
    "\n",
    "Each question is graded out of 3 points. \n",
    "\n",
    "For Questions 1-4, you will earn:\n",
    "\n",
    "- 1 point for your answer (You must show work and/or explain your reasoning to earn credit.)\n",
    "- 1 point for writing a simulation using Symbulate checking your answer. (Designing an appropriate simulation is challenging! You will have to think hard about the problem for many of these.)\n",
    "- 1 point for your reflection (I want you to reflect on what you learned from the problem---or, if the problem was straightforward for you, what you think I was trying to teach you.)\n",
    "\n",
    "Question 5 is purely coding and is designed to make you comfortable with practical digital signal processing. For Question 5, you will earn:\n",
    "\n",
    "- 2 points for your code.\n",
    "- 1 point for your reflection.\n",
    "\n",
    "You can type your solution, simulation code, and reflection directly in this notebook (using LaTeX for mathematical notation). You can also prepare your solution and reflection on a separate piece of paper and attach your simulations for all 5 questions at the end.\n",
    "\n",
    "Keep in mind that you will have to upload your solution in the form of a PDF, so it may be worth the investment to learn how to typeset math."
   ]
  },
  {
   "cell_type": "code",
   "execution_count": null,
   "metadata": {},
   "outputs": [],
   "source": [
    "# Make sure you run this cell first!\n",
    "from symbulate import *\n",
    "\n",
    "import numpy as np\n",
    "import matplotlib.pyplot as plt\n",
    "%matplotlib inline\n",
    "\n",
    "from IPython.display import Audio\n",
    "from scipy.io import wavfile\n",
    "from io import BytesIO"
   ]
  },
  {
   "cell_type": "markdown",
   "metadata": {},
   "source": [
    "The documentation for Symbulate can be found [here](https://dlsun.github.io/symbulate/index.html)."
   ]
  },
  {
   "cell_type": "markdown",
   "metadata": {},
   "source": [
    "# Question 1\n",
    "\n",
    "Let $\\Theta$ be a $\\text{Uniform}(\\ell=0, u=2\\pi)$ random variable and define the random process \n",
    "\n",
    "$$ X(t) = \\cos(2\\pi \\cdot 256 t + \\Theta). $$\n",
    "\n",
    "The process $\\{X(t)\\}$ is called the **random phase process**.\n",
    "\n",
    "1. Calculate the mean function $\\mu(t)$ of the process $\\{ X(t) \\}$.\n",
    "2. Calculate the autocovariance function $C(s, t)$ of the process $\\{ X(t) \\}$.\n",
    "3. Is $\\{ X(t) \\}$ stationary?\n",
    "4. Find the average expected power in $\\{ X(t) \\}$."
   ]
  },
  {
   "cell_type": "markdown",
   "metadata": {},
   "source": [
    "**YOUR ANSWER HERE**"
   ]
  },
  {
   "cell_type": "code",
   "execution_count": null,
   "metadata": {},
   "outputs": [],
   "source": [
    "# YOUR SIMULATION HERE\n",
    "\n",
    "# To get you started, this is a template for generating a random phase process.\n",
    "Theta = RV(Uniform(0, 2*pi))\n",
    "t = ContinuousTimeFunction()\n",
    "X = cos(2 * pi * t + Theta)\n",
    "\n",
    "# Plot 10 sample paths of this process from 0 to 5 seconds.\n",
    "X.sim(10).plot(tmin=0, tmax=5)\n",
    "\n",
    "# Plot the mean function calculated from 1000 simulations.\n",
    "x = X.sim(1000)\n",
    "x.mean().plot(tmin=0, tmax=5)\n",
    "\n",
    "# Plot the variance function calculated from 1000 simulations.\n",
    "(x.mean() + x.sd()).plot(tmin=0, tmax=5)\n",
    "(x.mean() - x.sd()).plot(tmin=0, tmax=5)"
   ]
  },
  {
   "cell_type": "code",
   "execution_count": null,
   "metadata": {},
   "outputs": [],
   "source": [
    "# Listen to a random process.\n",
    "# Python can only play discrete-time processes,\n",
    "# so we have to choose a sampling rate.\n",
    "fs = 4000\n",
    "\n",
    "Theta = RV(Uniform(0, 2 * pi))\n",
    "t = DiscreteTimeFunction(fs=fs)\n",
    "X = cos(2 * pi * 256 * t + Theta)\n",
    "x = X.draw()\n",
    "\n",
    "# Extract first second of signal and listen to it.\n",
    "Audio(x[0:2 * fs], rate=fs)"
   ]
  },
  {
   "cell_type": "markdown",
   "metadata": {},
   "source": [
    "**YOUR REFLECTION HERE**"
   ]
  },
  {
   "cell_type": "markdown",
   "metadata": {},
   "source": [
    "# Question 2\n",
    "\n",
    "Let $W[n]$ be i.i.d. random variables for all integers $n$ (including _negative_ integers). A process $\\{ X[n] \\}$ which is defined recursively as\n",
    "$$ X[n] = \\phi X[n - 1] + W[n],$$\n",
    "where $|\\phi| < 1$, is called an **autoregressive (AR) process of order 1**. \n",
    "\n",
    "Let's suppose that $W[n]$ are i.i.d. $\\text{Normal}(\\mu=4, \\sigma=3)$. Let $\\phi = 0.5$.\n",
    "\n",
    "1. Calculate the mean function $\\mu[n]$ of the process $\\{ X[n] \\}$.\n",
    "2. Calculate the autocovariance function $C[m, n]$ of the process $\\{ X[n] \\}$.\n",
    "3. Is $\\{ X[n] \\}$ stationary?\n",
    "4. Find the average expected power in $\\{ X[n] \\}$.\n",
    "\n",
    "**Hint:** In the previous Exercise Set, you calculated $E[X[n]]$ and $\\text{Cov}[X[m], X[n]]$ for specific values of $m$ and $n$. Take a look at the calculations you did and try to generalize them for arbitrary $m$ and $n$."
   ]
  },
  {
   "cell_type": "markdown",
   "metadata": {},
   "source": [
    "**YOUR ANSWER HERE**"
   ]
  },
  {
   "cell_type": "code",
   "execution_count": null,
   "metadata": {},
   "outputs": [],
   "source": [
    "# YOUR SIMULATION HERE\n",
    "\n",
    "# Define an infinite sequence of independent Normals.\n",
    "P = Normal(mean=4, sd=3) ** inf\n",
    "\n",
    "# Define a random process W[-10], W[-9], W[-8], ...\n",
    "n = DiscreteTimeFunction()\n",
    "W = RandomProcess(P, index_set=Integers())(n + 10)\n",
    "\n",
    "# Initialize a random process X.\n",
    "X = RandomProcess(P, index_set=Integers())\n",
    "# It's not possible to start a process infinitely far in the past.\n",
    "# We'll start the process at n=-10. By the time we get to n=0, this\n",
    "# initial value will be far in the past.\n",
    "X[-10] = 0\n",
    "for n in range(-9, 10):\n",
    "    X[n] = .5 * X[n-1] + W[n]\n",
    "\n",
    "# Plot 10 realizations of the process.\n",
    "X.sim(10).plot()\n",
    "\n",
    "# Consider plotting the (simulated) mean and variance functions?\n",
    "\n",
    "\n",
    "# Consider simulating the covariance for specific values of m and n\n",
    "# and compare the value with the autocovariance function you derived?\n",
    "\n"
   ]
  },
  {
   "cell_type": "markdown",
   "metadata": {},
   "source": [
    "**YOUR REFLECTION HERE**"
   ]
  },
  {
   "cell_type": "markdown",
   "metadata": {},
   "source": [
    "# Question 3\n",
    "\n",
    "In class, we studied a **moving average (MA) process of order 1**. In this exercise, you will investigate an **MA process of order 2**.\n",
    "\n",
    "Let $W[n]$ be i.i.d. random variables for all integers $n$ (including _negative_ integers). A process $\\{ X[n] \\}$ which is defined as  \n",
    "$$ X[n] = W[n] + \\theta_1 W[n-1] + \\theta_2 W[n-2],$$\n",
    "where $\\theta_1, \\theta_2$ are real numbers, is called an **MA process of order 2**.\n",
    "\n",
    "Let's suppose that $W[n]$ are i.i.d. $\\text{Normal}(\\mu=4, \\sigma=3)$. Let $\\theta_1 = 1$ and $\\theta_2 = -0.5$.\n",
    "\n",
    "1. Calculate the mean function $\\mu[n]$ of the process $\\{ X[n] \\}$.\n",
    "2. Calculate the autocovariance function $C[m, n]$ of the process $\\{ X[n] \\}$.\n",
    "3. Is $\\{ X[n] \\}$ stationary?\n",
    "4. Find the average expected power in $\\{ X[n] \\}$."
   ]
  },
  {
   "cell_type": "markdown",
   "metadata": {},
   "source": [
    "**YOUR ANSWER HERE**"
   ]
  },
  {
   "cell_type": "code",
   "execution_count": null,
   "metadata": {},
   "outputs": [],
   "source": [
    "# YOUR SIMULATION HERE\n",
    "\n",
    "# Define an infinite sequence of independent Normals.\n",
    "P = Normal(mean=4, sd=3) ** inf\n",
    "\n",
    "# Define a sequence of random variables on this space,\n",
    "# W[-10], W[-9], W[-8], ...\n",
    "n = DiscreteTimeFunction()\n",
    "W = RandomProcess(P, index_set=Integers())(n + 10)\n",
    "\n",
    "# Initialize a random process X.\n",
    "X = RandomProcess(P)\n",
    "# Fill in the values of X.\n",
    "for n in range(10):\n",
    "    X[n] = W[n] + 1 * W[n-1] - 0.5 * W[n-2]\n",
    "\n",
    "# Write more code to check your answer here.\n",
    "X.draw()"
   ]
  },
  {
   "cell_type": "markdown",
   "metadata": {},
   "source": [
    "**YOUR REFLECTION HERE**"
   ]
  },
  {
   "cell_type": "markdown",
   "metadata": {},
   "source": [
    "# Question 4\n",
    "\n",
    "Consider a particle that moves along one dimension according to Brownian motion $\\{ B(t) \\}$, with scale parameter $\\sigma = 2\\text{mm}$. Define the Brownian difference process $\\{ D(t) \\}$ as\n",
    "\n",
    "$$ D(t) = B(t + 1) - B(t). $$\n",
    "\n",
    "Intuitively, $D(t)$ tells us how far the particle will travel in the next second. \n",
    "\n",
    "1. Calculate the mean function $\\mu(t)$ of the process $\\{ D(t) \\}$.\n",
    "2. Calculate the autocovariance function $C(s, t)$ of the process $\\{ D(t) \\}$. (_Hint_: Think about the properties of Brownian motion. When will the autocovariance of $\\{ D(t) \\}$ be zero? In the end, you only have to consider two cases: $t < s < t + 1 < s + 1$ and $s < t < s + 1 < t + 1$. Draw a picture to convince yourself.)\n",
    "3. Is $\\{ D(t) \\}$ stationary?\n",
    "4. Find the average expected power in $\\{ D(t) \\}$."
   ]
  },
  {
   "cell_type": "markdown",
   "metadata": {},
   "source": [
    "**YOUR ANSWER HERE**"
   ]
  },
  {
   "cell_type": "code",
   "execution_count": null,
   "metadata": {},
   "outputs": [],
   "source": [
    "# YOUR SIMULATION HERE\n",
    "\n",
    "# Define the Brownian difference process.\n",
    "B = BrownianMotion(scale=2)\n",
    "t = ContinuousTimeFunction()\n",
    "D = B(t + 1) - B(t)\n",
    "\n",
    "# Simulate 3 realizations of this process and plot it.\n",
    "# (This may take a while to run.)\n",
    "D.sim(3).plot()\n",
    "\n",
    "# You may just want to simulate the covariance for particular\n",
    "# values of s and t, and compare the values with the \n",
    "# autocovariance function you calculated.\n",
    "(D[2] & D[3]).sim(1000).cov()"
   ]
  },
  {
   "cell_type": "markdown",
   "metadata": {},
   "source": [
    "**YOUR REFLECTION HERE**"
   ]
  },
  {
   "cell_type": "markdown",
   "metadata": {},
   "source": [
    "# Question 5: Signal Processing in Python"
   ]
  },
  {
   "cell_type": "markdown",
   "metadata": {},
   "source": [
    "To generate a 440 Hz pure sine tone that lasts for 5 seconds at a sampling rate of 8000 Hz, we would write:\n",
    "```\n",
    "fs = 8000\n",
    "t = np.arange(0, 5, 1 / fs)\n",
    "x = np.sin(2 * np.pi * 440 * t)\n",
    "```\n",
    "\n",
    "Note the use of functions and constants that are available in the Numpy (`np`) library. \n",
    "\n",
    "To plot the first 0.01 seconds of this signal, type:\n",
    "```\n",
    "plt.plot(t[t < .01], x[t < .01])\n",
    "```\n",
    "\n",
    "To listen to the signal at the sampling rate, type:\n",
    "```\n",
    "Audio(x, fs)\n",
    "```\n",
    "\n",
    "Give it a try below!"
   ]
  },
  {
   "cell_type": "code",
   "execution_count": null,
   "metadata": {},
   "outputs": [],
   "source": [
    "fs = 16000\n",
    "t = np.arange(0, 5, 1 / fs)\n",
    "x = np.sin(2 * np.pi * 440 * t)\n",
    "plt.plot(t[t < .01], x[t < .01])\n",
    "Audio(x, rate=fs)"
   ]
  },
  {
   "cell_type": "markdown",
   "metadata": {},
   "source": [
    "Generate an audio signal that consists of pure 1000 Hz and 2500 Hz sine tones. Make the 2500 Hz sine tone half as loud as the 1000 Hz sine tone.\n",
    "\n",
    "**(a)** Plot the first 0.05 seconds of this signal. Listen to the audio signal."
   ]
  },
  {
   "cell_type": "code",
   "execution_count": null,
   "metadata": {},
   "outputs": [],
   "source": [
    "# TYPE YOUR CODE HERE."
   ]
  },
  {
   "cell_type": "markdown",
   "metadata": {},
   "source": [
    "You can take the Discrete Fourier Transform (DFT) of a signal using the following command. (FFT stands for Fast Fourier Transform, the standard algorithm for computing the DFT.)\n",
    "\n",
    "```\n",
    "x_hat = np.fft.fft(x)\n",
    "```\n",
    "\n",
    "This will create an array of complex numbers `x_hat` with the same length as `x`. These values represent the Fourier transform evaluated at $N$ equal frequencies between $[-f_s / 2, f_s / 2)$. The first $N/2$ values represent the Fourier coefficients for frequencies in $[0, f_s / 2)$, while the remaining $N/2$ values represent Fourier coefficients for frequencies in $[-f_s / 2, 0)$. (The frequencies \"wrap around\" after reaching the Nyquist limit $f_s / 2$.) We typically only plot the first half of the spectrum because the second half is just the reflection of the first half. We also plot the power (magnitude squared), since it's difficult to plot a complex-valued function!\n",
    "\n",
    "```\n",
    "freqs = np.arange(0, fs, fs / len(x))\n",
    "inds = np.arange(len(x) // 2)\n",
    "plt.plot(freqs[inds], np.abs(x_hat[inds]) ** 2)\n",
    "```"
   ]
  },
  {
   "cell_type": "markdown",
   "metadata": {},
   "source": [
    "**(b)** Take the DFT of the signal you generated in part (a). Make sure that it recovers the two frequencies that you know were actually in your signal."
   ]
  },
  {
   "cell_type": "code",
   "execution_count": null,
   "metadata": {},
   "outputs": [],
   "source": [
    "# TYPE YOUR CODE HERE."
   ]
  },
  {
   "cell_type": "markdown",
   "metadata": {},
   "source": [
    "**(c)** We used a sampling rate of $f_s = 16000\\ \\text{Hz}$. Try lowering $f_s$ to $8000\\ \\text{Hz}$ and play the signal again. Does it sound the same? What if you lower $f_s$ to $4000\\ \\text{Hz}$? Make some plots that explain what is going on in the time domain and in the frequency domain."
   ]
  },
  {
   "cell_type": "code",
   "execution_count": null,
   "metadata": {},
   "outputs": [],
   "source": [
    "# TYPE YOUR CODE HERE"
   ]
  },
  {
   "cell_type": "markdown",
   "metadata": {},
   "source": [
    "**YOUR REFLECTION HERE**"
   ]
  },
  {
   "cell_type": "markdown",
   "metadata": {},
   "source": [
    "# Submission Instructions\n",
    "\n",
    "- If you completed this assignment directly in this notebook, export this notebook to HTML by clicking on `File > Export Notebook As > HTML`, print the resulting HTML file to PDF, and [upload the PDF to PolyLearn](https://polylearn.calpoly.edu/AY_2018-2019/mod/assign/view.php?id=176436).\n",
    "- If you completed this assignment on a separate piece of paper, scan the pages into a PDF. Make sure that the pages are in order and are right-side up. (You will earn no credit for any pages that are out-of-order or upside down.) Although we would prefer that your simulations be together with your solution to each question, it is acceptable to include your simulations for all 5 questions at the _end_ of your submission. Then, [upload the PDF to PolyLearn](https://polylearn.calpoly.edu/AY_2018-2019/mod/assign/view.php?id=176436)."
   ]
  }
 ],
 "metadata": {
  "kernelspec": {
   "display_name": "Python 3",
   "language": "python",
   "name": "python3"
  },
  "language_info": {
   "codemirror_mode": {
    "name": "ipython",
    "version": 3
   },
   "file_extension": ".py",
   "mimetype": "text/x-python",
   "name": "python",
   "nbconvert_exporter": "python",
   "pygments_lexer": "ipython3",
   "version": "3.6.3"
  }
 },
 "nbformat": 4,
 "nbformat_minor": 2
}
