{
 "cells": [
  {
   "cell_type": "markdown",
   "metadata": {},
   "source": [
    "# Exercise Set 2\n",
    "## Due Friday, October 5 at 5 PM\n",
    "\n",
    "Each question will be graded out of 2 points:\n",
    "\n",
    "- 1 point for your answer (You must show work and/or explain your reasoning to earn credit.)\n",
    "- 1 point for your reflection (I want you to reflect on what you learned from the problem---or, if the problem was straightforward for you, what you think I was trying to teach you.)\n",
    "\n",
    "You can either type your solution and reflection directly in this notebook (using LaTeX for mathematical notation) or write them on a separate piece of paper. Keep in mind that you will have to upload your solution in the form of a PDF, so it may be worth the investment to learn how to typeset math."
   ]
  },
  {
   "cell_type": "markdown",
   "metadata": {},
   "source": [
    "## Question 1\n",
    "\n",
    "On one of their excellent adventures, Bill and Ted visit a village with 500 people it. \n",
    "Bill and Ted each independently make friends with 100 people in the village, selected completely at \n",
    "random. What is the probability they share exactly 18 friends in common?\n",
    "\n",
    "Define a random variable, set up the box model (specifying what $\\fbox{1}$s and $\\fbox{0}$s represent), and identify the named distribution (specifying all parameters). Then, calculate the probaility."
   ]
  },
  {
   "cell_type": "markdown",
   "metadata": {},
   "source": [
    "**YOUR ANSWER HERE**"
   ]
  },
  {
   "cell_type": "markdown",
   "metadata": {},
   "source": [
    "**YOUR REFLECTION HERE**"
   ]
  },
  {
   "cell_type": "markdown",
   "metadata": {},
   "source": [
    "## Question 2\n",
    "\n",
    "As a promotion, McDonald's gives away a Pokemon toy with every Happy Meal. Each time you buy a Happy Meal, you are equally likely to get any one of 8 types of Pokemon.\n",
    "\n",
    "Your nephews Huey and Louie both want a [Pikachu](https://bulbapedia.bulbagarden.net/wiki/Pikachu_(Pok%C3%A9mon)) toy. (They don't care for the other 7 types of Pokemon.) Not wanting to show favoritism, you take turns buying them Happy Meals. So on the first day, you buy Huey a Happy Meal. The next day, you buy Louie one. Then Huey again. And so on.\n",
    "\n",
    "- What is the distribution of the number of days until _either Huey or Louie_ gets a Pikachu? Specify the parameter(s) of this distribution.\n",
    "- What is the probability Huey gets a Pikachu before Louie? (**Hint:** Express this event in terms of the random variable from part (a).)"
   ]
  },
  {
   "cell_type": "markdown",
   "metadata": {},
   "source": [
    "**YOUR ANSWER HERE**"
   ]
  },
  {
   "cell_type": "markdown",
   "metadata": {},
   "source": [
    "**YOUR REFLECTION HERE**"
   ]
  },
  {
   "cell_type": "markdown",
   "metadata": {},
   "source": [
    "## Question 3\n",
    "\n",
    "What is the probability that ⚅ shows up at least once in 4 rolls of a fair die?\n",
    "\n",
    "- Define a relevant random variable for this problem. Write down the p.m.f. of this random variable.\n",
    "- Calculate this probability in two ways: (1) directly by adding up the probabilities of the relevant outcomes and (2) using the complement rule."
   ]
  },
  {
   "cell_type": "markdown",
   "metadata": {},
   "source": [
    "**YOUR ANSWER HERE**"
   ]
  },
  {
   "cell_type": "markdown",
   "metadata": {},
   "source": [
    "**YOUR REFLECTION HERE**"
   ]
  },
  {
   "cell_type": "markdown",
   "metadata": {},
   "source": [
    "## Question 4\n",
    "\n",
    "### Part A\n",
    "\n",
    "You would like to build a probability model for the number of children in the family of a randomly selected Cal Poly student. You assume that no student comes from a family with more than 4 children and that there are as many students who come from a 1-child family as a 4-child family. You also know that a 2-child family is twice as likely as a 1-child family, and a 3-child family is three times as likely. In other words, you know the shape of the p.m.f., but not the exact probabilities.\n",
    "\n",
    "![](pmf1.png)\n",
    "\n",
    "From the information given, is it possible to work out the exact p.m.f. of this distribution? If so, summarize the p.m.f. in table form. If not, explain why not.\n",
    "\n",
    "\n",
    "### Part B\n",
    "\n",
    "Your friend Bernie thinks that the distribution of the number of children is different. He is not willing to assume an upper bound on the number of children, and he thinks that the shape of the distribution is:\n",
    "\n",
    "![](pmf2.png)\n",
    "\n",
    "In other words, he thinks that the p.m.f. is\n",
    "\\begin{align}\n",
    "p[x] &= \\frac{C}{x}, & x &= 1, 2, 3, 4, ... \n",
    "\\end{align}\n",
    "for some constant $C$.\n",
    "\n",
    "Is this a valid probability model? If so, find the constant $C$. If not, explain why not."
   ]
  },
  {
   "cell_type": "markdown",
   "metadata": {},
   "source": [
    "**YOUR ANSWER HERE**"
   ]
  },
  {
   "cell_type": "markdown",
   "metadata": {},
   "source": [
    "**YOUR REFLECTION HERE**"
   ]
  },
  {
   "cell_type": "markdown",
   "metadata": {},
   "source": [
    "## Question 5\n",
    "\n",
    "Grandma makes chocolate chip cookies. The number of chocolate chips in a cookie follows a $\\text{Poisson}(\\mu=5)$ distribution.\n",
    "\n",
    "### Part A\n",
    "\n",
    "What is the probability of a cookie having exactly 6 chips?\n",
    "\n",
    "### Part B\n",
    "\n",
    "Suppose you ate one of grandma's cookies each week for ten weeks. (Assume the cookies are \"independent\".) Calculate the following probabilities:\n",
    "\n",
    "- at least one cookie had no chips\n",
    "- all cookies had at least one chip\n",
    "- exactly one cookie had three or more chips\n",
    "\n",
    "_Hint:_ This problem requires that you combine two distributions that we have learned."
   ]
  },
  {
   "cell_type": "markdown",
   "metadata": {},
   "source": [
    "**YOUR ANSWER HERE**"
   ]
  },
  {
   "cell_type": "markdown",
   "metadata": {},
   "source": [
    "**YOUR REFLECTION HERE**"
   ]
  },
  {
   "cell_type": "markdown",
   "metadata": {},
   "source": [
    "# Submission Instructions\n",
    "\n",
    "- If you completed this assignment directly in this notebook, export this notebook to PDF by clicking on `File > Export Notebook As > PDF`, and [upload the PDF to PolyLearn](https://polylearn.calpoly.edu/AY_2018-2019/mod/assign/view.php?id=132919).\n",
    "- If you completed this assignment on a separate piece of paper, scan the pages into a PDF. Make sure that the pages are in order and are right-side up. (You will earn no credit for any pages that are out-of-order or upside down.) Then, [upload the PDF to PolyLearn](https://polylearn.calpoly.edu/AY_2018-2019/mod/assign/view.php?id=132919)."
   ]
  }
 ],
 "metadata": {
  "kernelspec": {
   "display_name": "Python 3",
   "language": "python",
   "name": "python3"
  },
  "language_info": {
   "codemirror_mode": {
    "name": "ipython",
    "version": 3
   },
   "file_extension": ".py",
   "mimetype": "text/x-python",
   "name": "python",
   "nbconvert_exporter": "python",
   "pygments_lexer": "ipython3",
   "version": "3.6.5"
  }
 },
 "nbformat": 4,
 "nbformat_minor": 2
}
