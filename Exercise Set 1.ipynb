{
 "cells": [
  {
   "cell_type": "markdown",
   "metadata": {},
   "source": [
    "# Exercise Set 1\n",
    "## Due Friday, Sept. 29 at 5 PM\n",
    "\n",
    "Each question will be graded out of 2 points:\n",
    "\n",
    "- 1 point for the solution\n",
    "- 1 point for your reflection (I want you to reflect on what you learned from the problem---or, if the problem was straightforward for you, what you think I was trying to teach you.)\n",
    "\n",
    "You can either type your solution and reflection directly in this notebook (using $\\LaTeX$ for mathematical notation) or write them on a separate piece of paper. Keep in mind that you will have to upload your solution in the form of a PDF, so it may be worth the investment to learn how to typeset math."
   ]
  },
  {
   "cell_type": "markdown",
   "metadata": {},
   "source": [
    "## Question 1\n",
    "\n",
    "### Part A\n",
    "We roll four six-sided dice (call them A, B, C, D), each with different numbers on its six faces:\n",
    "\n",
    "- The faces on A are 4, 4, 4, 4, 0, 0.\n",
    "- The faces on B are 3, 3, 3, 3, 3, 3.\n",
    "- The faces on C are 6, 6, 2, 2, 2, 2.\n",
    "- The faces on D are 5, 5, 5, 1, 1, 1.\n",
    "\n",
    "\n",
    "One die is said to _beat_ another if the number showing on that die is higher. So, for example, if A shows 4 and C shows 2, then A beats C.\n",
    "\t\n",
    "Calculate $P(\\textrm{A beats B})$, $P(\\textrm{B beats C})$, $P(\\textrm{C beats D})$, and $P(\\textrm{D beats A})$.\n",
    "\t\n",
    "\n",
    "### Part B\n",
    "\n",
    "(This is a true story.) Warren Buffett once challenged Bill Gates to a dice game with the four dice above. Each person would choose one of the dice and roll it, and the person with the higher number would win. \n",
    "\t\n",
    "After studying the dice, Gates said, \"Okay, but you choose first.\" Why did he say this?"
   ]
  },
  {
   "cell_type": "markdown",
   "metadata": {},
   "source": [
    "**YOUR ANSWER HERE**"
   ]
  },
  {
   "cell_type": "markdown",
   "metadata": {},
   "source": [
    "**YOUR REFLECTION HERE**"
   ]
  },
  {
   "cell_type": "markdown",
   "metadata": {},
   "source": [
    "## Question 2\n",
    "\n",
    "You have 3 circuit components. Each circuit component has a $0.2$ probability of failing within the next year, _independently_ of any other component. (We'll talk more about _independence_ later in this course. Independence just means that each component has a $0.2$ component of failing, regardless of whether any other component failed or not.)\n",
    "\n",
    "- If you connect the components in parallel, what is the probability the circuit fails within the next year?\n",
    "- If you connect the components in series, what is the probability the circuit fails within the next year?"
   ]
  },
  {
   "cell_type": "markdown",
   "metadata": {},
   "source": [
    "**YOUR ANSWER HERE**"
   ]
  },
  {
   "cell_type": "markdown",
   "metadata": {},
   "source": [
    "**YOUR REFLECTION HERE**"
   ]
  },
  {
   "cell_type": "markdown",
   "metadata": {},
   "source": [
    "## Question 3\n",
    "\n",
    "In poker, 5 cards are dealt from the top of a well-shuffled deck of cards. The resulting hand is called \"two pair\" if there are 2 cards of one rank, 2 cards of another rank, and 1 card of a third rank. For example, a hand consisting of 2, 2, Q, Q, J would be \"two pairs\".\n",
    "\n",
    "Your friend wants to know the probability of getting \"two pairs\". His reasoning is as follows:\n",
    "\n",
    "- There are $\\binom{52}{5}$ equally likely hands (where order does not matter).\n",
    "- Next, we need to count up how many ways there are to choose the first pair. There are $13$ choices for the rank and $\\binom{4}{2}$ choices for the two cards within the rank, so there are $13 \\times \\binom{4}{2}$ ways.\n",
    "- We also need to count up how many ways there are to choose the second pair. Since one rank has already been chosen, there are $12 \\times \\binom{4}{2}$ ways to do this.\n",
    "- Finally, we need to choose the remaining card. There are $11 \\times \\binom{4}{1} = 44$ ways to do this.\n",
    "\n",
    "Your friend calculates the probability as \n",
    "$$ \\frac{13 \\times \\binom{4}{2} \\times 12 \\times \\binom{4}{2} \\times 44}{\\binom{52}{5}} \\approx .095, $$\n",
    "but then [finds online](http://www.math.hawaii.edu/~ramsey/Probability/PokerHands.html) that the actual probability of \"two pair\" is only $.0475$. Suspiciously, this number is exactly half the probability that your friend got, so he knows he must have double-counted somewhere. But where?"
   ]
  },
  {
   "cell_type": "markdown",
   "metadata": {},
   "source": [
    "**YOUR ANSWER HERE**"
   ]
  },
  {
   "cell_type": "markdown",
   "metadata": {},
   "source": [
    "**YOUR REFLECTION HERE**"
   ]
  },
  {
   "cell_type": "markdown",
   "metadata": {},
   "source": [
    "## Question 4\n",
    "\n",
    "As a test, an evil wizard is forcing you to choose between two baskets of apples. \n",
    "Some of the apples are poisoned, although you have no way to tell which ones.\n",
    "\n",
    "1.  One basket contains 5 green apples, of which 2 are poisoned. If you pick this basket, you must eat 3 of the apples.\n",
    "2. The other basket contains 5 red apples, of which 3 are poisoned. If you pick this basket, \n",
    "you must eat 2 of the apples.\n",
    "\n",
    "It takes at least 2 poisoned apples to kill you. Which basket should you pick if you want to \n",
    "minimize your chances of dying? Or does it not matter?\n",
    "\n",
    "Define random variables, and express the events of interest in terms of those random variables. Find the p.m.f.s of those random variables, and use the p.m.f.s to calculate the probabilities."
   ]
  },
  {
   "cell_type": "markdown",
   "metadata": {},
   "source": [
    "**YOUR ANSWER HERE**"
   ]
  },
  {
   "cell_type": "markdown",
   "metadata": {},
   "source": [
    "**YOUR REFLECTION HERE**"
   ]
  },
  {
   "cell_type": "markdown",
   "metadata": {},
   "source": [
    "## Question 5\n",
    "\n",
    "You toss a coin $6$ times. What is the probability that you get an even number of heads?\n",
    "\n",
    "Define a random variable, and express the event of interest in terms of that random variable. Find the p.m.f. of that random variable, and use its p.m.f. to calculate the probability."
   ]
  },
  {
   "cell_type": "markdown",
   "metadata": {},
   "source": [
    "**YOUR ANSWER HERE**"
   ]
  },
  {
   "cell_type": "markdown",
   "metadata": {},
   "source": [
    "**YOUR REFLECTION HERE**"
   ]
  },
  {
   "cell_type": "markdown",
   "metadata": {},
   "source": [
    "# Submission Instructions\n",
    "\n",
    "- If you completed this assignment directly in this notebook, export this notebook to PDF by clicking on `File > Export Notebook As > PDF`, and [upload the PDF to PolyLearn](https://polylearn.calpoly.edu/AY_2018-2019/mod/assign/view.php?id=122861).\n",
    "- If you completed this assignment on a separate piece of paper, scan the pages into a PDF. Make sure that the pages are in order and are right-side up. (You will earn no credit for any pages that are out-of-order or upside down.) Then, [upload the PDF to PolyLearn](https://polylearn.calpoly.edu/AY_2018-2019/mod/assign/view.php?id=122861)."
   ]
  }
 ],
 "metadata": {
  "kernelspec": {
   "display_name": "Python 3",
   "language": "python",
   "name": "python3"
  },
  "language_info": {
   "codemirror_mode": {
    "name": "ipython",
    "version": 3
   },
   "file_extension": ".py",
   "mimetype": "text/x-python",
   "name": "python",
   "nbconvert_exporter": "python",
   "pygments_lexer": "ipython3",
   "version": "3.6.4"
  }
 },
 "nbformat": 4,
 "nbformat_minor": 2
}
